{
 "metadata": {
  "language_info": {
   "codemirror_mode": {
    "name": "ipython",
    "version": 3
   },
   "file_extension": ".py",
   "mimetype": "text/x-python",
   "name": "python",
   "nbconvert_exporter": "python",
   "pygments_lexer": "ipython3",
   "version": "3.8.3-final"
  },
  "orig_nbformat": 2,
  "kernelspec": {
   "name": "python3",
   "display_name": "Python 3"
  }
 },
 "nbformat": 4,
 "nbformat_minor": 2,
 "cells": [
  {
   "cell_type": "code",
   "execution_count": 16,
   "metadata": {},
   "outputs": [],
   "source": [
    "import os\n",
    "import requests\n",
    "import json\n",
    "import pandas as pd\n",
    "from dotenv import load_dotenv\n",
    "import alpaca_trade_api as tradeapi"
   ]
  },
  {
   "cell_type": "code",
   "execution_count": 18,
   "metadata": {},
   "outputs": [
    {
     "output_type": "execute_result",
     "data": {
      "text/plain": [
       "True"
      ]
     },
     "metadata": {},
     "execution_count": 18
    }
   ],
   "source": [
    "# Load .env enviroment variables\n",
    "load_dotenv()"
   ]
  },
  {
   "cell_type": "code",
   "execution_count": 19,
   "metadata": {},
   "outputs": [],
   "source": [
    "# Set Alpaca API key and secret\n",
    "alpaca_api_key = os.getenv(\"APCA_API_KEY\")\n",
    "alpaca_secret_key = os.getenv(\"APCA_API_SECRET\")\n",
    "\n",
    "\n",
    "# Create the Alpaca API object\n",
    "alpaca = tradeapi.REST(\n",
    "    alpaca_api_key,\n",
    "    alpaca_secret_key,\n",
    "    api_version=\"v2\")"
   ]
  },
  {
   "cell_type": "code",
   "execution_count": 25,
   "metadata": {},
   "outputs": [
    {
     "output_type": "execute_result",
     "data": {
      "text/plain": [
       "                          INDEXSP                            TAN            \\\n",
       "                             open high  low close volume    open      high   \n",
       "time                                                                         \n",
       "2008-08-07 04:00:00+00:00     NaN  NaN  NaN   NaN    NaN  230.00  232.1000   \n",
       "2008-08-08 04:00:00+00:00     NaN  NaN  NaN   NaN    NaN  228.90  228.9000   \n",
       "2008-08-11 04:00:00+00:00     NaN  NaN  NaN   NaN    NaN  219.60  228.4000   \n",
       "2008-08-12 04:00:00+00:00     NaN  NaN  NaN   NaN    NaN  225.60  231.5000   \n",
       "2008-08-13 04:00:00+00:00     NaN  NaN  NaN   NaN    NaN  229.30  231.8000   \n",
       "...                           ...  ...  ...   ...    ...     ...       ...   \n",
       "2020-08-03 04:00:00+00:00     NaN  NaN  NaN   NaN    NaN   45.12   46.1800   \n",
       "2020-08-04 04:00:00+00:00     NaN  NaN  NaN   NaN    NaN   47.24   49.1899   \n",
       "2020-08-05 04:00:00+00:00     NaN  NaN  NaN   NaN    NaN   49.17   50.8600   \n",
       "2020-08-06 04:00:00+00:00     NaN  NaN  NaN   NaN    NaN   50.73   51.2290   \n",
       "2020-08-07 04:00:00+00:00     NaN  NaN  NaN   NaN    NaN   50.31   52.0628   \n",
       "\n",
       "                                                          XLE          \\\n",
       "                                low   close     volume   open    high   \n",
       "time                                                                    \n",
       "2008-08-07 04:00:00+00:00  228.5000  229.10     6624.0  73.76  73.970   \n",
       "2008-08-08 04:00:00+00:00  225.0000  225.60     6446.0  71.30  71.690   \n",
       "2008-08-11 04:00:00+00:00  219.6000  222.00    14975.0  71.69  72.010   \n",
       "2008-08-12 04:00:00+00:00  225.6000  228.10    14852.0  71.59  71.840   \n",
       "2008-08-13 04:00:00+00:00  224.2000  230.30     7030.0  70.77  73.510   \n",
       "...                             ...     ...        ...    ...     ...   \n",
       "2020-08-03 04:00:00+00:00   44.7120   45.96  2033314.0  36.02  36.360   \n",
       "2020-08-04 04:00:00+00:00   47.1000   49.08  1952026.0  36.04  37.120   \n",
       "2020-08-05 04:00:00+00:00   48.6900   50.72  1639638.0  37.77  37.900   \n",
       "2020-08-06 04:00:00+00:00   49.6200   50.16  1423544.0  37.22  37.555   \n",
       "2020-08-07 04:00:00+00:00   50.2901   51.16  1571908.0  36.84  37.270   \n",
       "\n",
       "                                                     \n",
       "                               low  close    volume  \n",
       "time                                                 \n",
       "2008-08-07 04:00:00+00:00  71.8600  71.89  28910888  \n",
       "2008-08-08 04:00:00+00:00  69.7200  71.28  33631235  \n",
       "2008-08-11 04:00:00+00:00  69.6600  70.98  31392190  \n",
       "2008-08-12 04:00:00+00:00  70.6200  70.74  30657524  \n",
       "2008-08-13 04:00:00+00:00  70.7700  73.25  42832058  \n",
       "...                            ...    ...       ...  \n",
       "2020-08-03 04:00:00+00:00  35.7200  36.16  41232566  \n",
       "2020-08-04 04:00:00+00:00  36.0058  37.04  44438406  \n",
       "2020-08-05 04:00:00+00:00  37.0850  37.43  55747387  \n",
       "2020-08-06 04:00:00+00:00  36.9900  37.13  37630914  \n",
       "2020-08-07 04:00:00+00:00  36.3700  37.18  31673676  \n",
       "\n",
       "[3022 rows x 15 columns]"
      ],
      "text/html": "<div>\n<style scoped>\n    .dataframe tbody tr th:only-of-type {\n        vertical-align: middle;\n    }\n\n    .dataframe tbody tr th {\n        vertical-align: top;\n    }\n\n    .dataframe thead tr th {\n        text-align: left;\n    }\n\n    .dataframe thead tr:last-of-type th {\n        text-align: right;\n    }\n</style>\n<table border=\"1\" class=\"dataframe\">\n  <thead>\n    <tr>\n      <th></th>\n      <th colspan=\"5\" halign=\"left\">INDEXSP</th>\n      <th colspan=\"5\" halign=\"left\">TAN</th>\n      <th colspan=\"5\" halign=\"left\">XLE</th>\n    </tr>\n    <tr>\n      <th></th>\n      <th>open</th>\n      <th>high</th>\n      <th>low</th>\n      <th>close</th>\n      <th>volume</th>\n      <th>open</th>\n      <th>high</th>\n      <th>low</th>\n      <th>close</th>\n      <th>volume</th>\n      <th>open</th>\n      <th>high</th>\n      <th>low</th>\n      <th>close</th>\n      <th>volume</th>\n    </tr>\n    <tr>\n      <th>time</th>\n      <th></th>\n      <th></th>\n      <th></th>\n      <th></th>\n      <th></th>\n      <th></th>\n      <th></th>\n      <th></th>\n      <th></th>\n      <th></th>\n      <th></th>\n      <th></th>\n      <th></th>\n      <th></th>\n      <th></th>\n    </tr>\n  </thead>\n  <tbody>\n    <tr>\n      <th>2008-08-07 04:00:00+00:00</th>\n      <td>NaN</td>\n      <td>NaN</td>\n      <td>NaN</td>\n      <td>NaN</td>\n      <td>NaN</td>\n      <td>230.00</td>\n      <td>232.1000</td>\n      <td>228.5000</td>\n      <td>229.10</td>\n      <td>6624.0</td>\n      <td>73.76</td>\n      <td>73.970</td>\n      <td>71.8600</td>\n      <td>71.89</td>\n      <td>28910888</td>\n    </tr>\n    <tr>\n      <th>2008-08-08 04:00:00+00:00</th>\n      <td>NaN</td>\n      <td>NaN</td>\n      <td>NaN</td>\n      <td>NaN</td>\n      <td>NaN</td>\n      <td>228.90</td>\n      <td>228.9000</td>\n      <td>225.0000</td>\n      <td>225.60</td>\n      <td>6446.0</td>\n      <td>71.30</td>\n      <td>71.690</td>\n      <td>69.7200</td>\n      <td>71.28</td>\n      <td>33631235</td>\n    </tr>\n    <tr>\n      <th>2008-08-11 04:00:00+00:00</th>\n      <td>NaN</td>\n      <td>NaN</td>\n      <td>NaN</td>\n      <td>NaN</td>\n      <td>NaN</td>\n      <td>219.60</td>\n      <td>228.4000</td>\n      <td>219.6000</td>\n      <td>222.00</td>\n      <td>14975.0</td>\n      <td>71.69</td>\n      <td>72.010</td>\n      <td>69.6600</td>\n      <td>70.98</td>\n      <td>31392190</td>\n    </tr>\n    <tr>\n      <th>2008-08-12 04:00:00+00:00</th>\n      <td>NaN</td>\n      <td>NaN</td>\n      <td>NaN</td>\n      <td>NaN</td>\n      <td>NaN</td>\n      <td>225.60</td>\n      <td>231.5000</td>\n      <td>225.6000</td>\n      <td>228.10</td>\n      <td>14852.0</td>\n      <td>71.59</td>\n      <td>71.840</td>\n      <td>70.6200</td>\n      <td>70.74</td>\n      <td>30657524</td>\n    </tr>\n    <tr>\n      <th>2008-08-13 04:00:00+00:00</th>\n      <td>NaN</td>\n      <td>NaN</td>\n      <td>NaN</td>\n      <td>NaN</td>\n      <td>NaN</td>\n      <td>229.30</td>\n      <td>231.8000</td>\n      <td>224.2000</td>\n      <td>230.30</td>\n      <td>7030.0</td>\n      <td>70.77</td>\n      <td>73.510</td>\n      <td>70.7700</td>\n      <td>73.25</td>\n      <td>42832058</td>\n    </tr>\n    <tr>\n      <th>...</th>\n      <td>...</td>\n      <td>...</td>\n      <td>...</td>\n      <td>...</td>\n      <td>...</td>\n      <td>...</td>\n      <td>...</td>\n      <td>...</td>\n      <td>...</td>\n      <td>...</td>\n      <td>...</td>\n      <td>...</td>\n      <td>...</td>\n      <td>...</td>\n      <td>...</td>\n    </tr>\n    <tr>\n      <th>2020-08-03 04:00:00+00:00</th>\n      <td>NaN</td>\n      <td>NaN</td>\n      <td>NaN</td>\n      <td>NaN</td>\n      <td>NaN</td>\n      <td>45.12</td>\n      <td>46.1800</td>\n      <td>44.7120</td>\n      <td>45.96</td>\n      <td>2033314.0</td>\n      <td>36.02</td>\n      <td>36.360</td>\n      <td>35.7200</td>\n      <td>36.16</td>\n      <td>41232566</td>\n    </tr>\n    <tr>\n      <th>2020-08-04 04:00:00+00:00</th>\n      <td>NaN</td>\n      <td>NaN</td>\n      <td>NaN</td>\n      <td>NaN</td>\n      <td>NaN</td>\n      <td>47.24</td>\n      <td>49.1899</td>\n      <td>47.1000</td>\n      <td>49.08</td>\n      <td>1952026.0</td>\n      <td>36.04</td>\n      <td>37.120</td>\n      <td>36.0058</td>\n      <td>37.04</td>\n      <td>44438406</td>\n    </tr>\n    <tr>\n      <th>2020-08-05 04:00:00+00:00</th>\n      <td>NaN</td>\n      <td>NaN</td>\n      <td>NaN</td>\n      <td>NaN</td>\n      <td>NaN</td>\n      <td>49.17</td>\n      <td>50.8600</td>\n      <td>48.6900</td>\n      <td>50.72</td>\n      <td>1639638.0</td>\n      <td>37.77</td>\n      <td>37.900</td>\n      <td>37.0850</td>\n      <td>37.43</td>\n      <td>55747387</td>\n    </tr>\n    <tr>\n      <th>2020-08-06 04:00:00+00:00</th>\n      <td>NaN</td>\n      <td>NaN</td>\n      <td>NaN</td>\n      <td>NaN</td>\n      <td>NaN</td>\n      <td>50.73</td>\n      <td>51.2290</td>\n      <td>49.6200</td>\n      <td>50.16</td>\n      <td>1423544.0</td>\n      <td>37.22</td>\n      <td>37.555</td>\n      <td>36.9900</td>\n      <td>37.13</td>\n      <td>37630914</td>\n    </tr>\n    <tr>\n      <th>2020-08-07 04:00:00+00:00</th>\n      <td>NaN</td>\n      <td>NaN</td>\n      <td>NaN</td>\n      <td>NaN</td>\n      <td>NaN</td>\n      <td>50.31</td>\n      <td>52.0628</td>\n      <td>50.2901</td>\n      <td>51.16</td>\n      <td>1571908.0</td>\n      <td>36.84</td>\n      <td>37.270</td>\n      <td>36.3700</td>\n      <td>37.18</td>\n      <td>31673676</td>\n    </tr>\n  </tbody>\n</table>\n<p>3022 rows × 15 columns</p>\n</div>"
     },
     "metadata": {},
     "execution_count": 25
    }
   ],
   "source": [
    "# Set start and end dates of five years back from today.\n",
    "# Sample results may vary from the solution based on the time frame chosen\n",
    "start_date = pd.Timestamp('2008-08-07', tz='America/New_York').isoformat()\n",
    "end_date = pd.Timestamp('2020-08-07', tz='America/New_York').isoformat()\n",
    "\n",
    "\n",
    "tickers = [\"XLE\", \"TAN\", \"INDEXSP\"]\n",
    "\n",
    "\n",
    "timeframe = \"1D\"\n",
    "\n",
    "df_stock_data = alpaca.get_barset(\n",
    "    tickers,\n",
    "    timeframe,\n",
    "    start = start_date,\n",
    "    end = end_date\n",
    ").df\n",
    "  \n",
    "# Display sample data\n",
    "df_stock_data"
   ]
  },
  {
   "cell_type": "code",
   "execution_count": null,
   "metadata": {},
   "outputs": [],
   "source": []
  }
 ]
}