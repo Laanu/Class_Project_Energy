{
 "metadata": {
  "language_info": {
   "codemirror_mode": {
    "name": "ipython",
    "version": 3
   },
   "file_extension": ".py",
   "mimetype": "text/x-python",
   "name": "python",
   "nbconvert_exporter": "python",
   "pygments_lexer": "ipython3",
   "version": "3.7.7-final"
  },
  "orig_nbformat": 2,
  "kernelspec": {
   "name": "Python 3.7.7 64-bit ('pyvizenv': conda)",
   "display_name": "Python 3.7.7 64-bit ('pyvizenv': conda)",
   "metadata": {
    "interpreter": {
     "hash": "e96a7a6ba5d00ebe201b17edc65b1ac8e9ffb05d744def1ba3a663450a2a4a9f"
    }
   }
  }
 },
 "nbformat": 4,
 "nbformat_minor": 2,
 "cells": [
  {
   "cell_type": "code",
   "execution_count": 5,
   "metadata": {},
   "outputs": [],
   "source": [
    " # imports\n",
    "import panel as pn\n",
    "pn.extension('plotly')\n",
    "import plotly.express as px\n",
    "import pandas as pd\n",
    "import hvplot.pandas\n",
    "import matplotlib.pyplot as plt\n",
    "import os\n",
    "import seaborn as sns\n",
    "from pathlib import Path\n",
    "from dotenv import load_dotenv"
   ]
  },
  {
   "cell_type": "code",
   "execution_count": 6,
   "metadata": {},
   "outputs": [],
   "source": [
    "# Import Data\n",
    "production_path = Path(\"../data/Total_Energy_Production.csv\")\n",
    "consumption_path = Path(\"../data/Total_Energy_Use.csv\")\n",
    "Total_Energy_Nominal_Path = Path(\"../data/Total_Energy_Nominal_Prices.csv\")\n",
    "Renewable_Consumption_path = Path(\"../data/Renewable_Energy_Consumption.csv\")\n",
    "Renewable_Path = Path(\"../data/Renewable_Production.csv\")\n",
    "\n",
    "production_data = pd.read_csv(production_path)\n",
    "consumption_data = pd.read_csv(consumption_path)\n",
    "renewable_consumption = pd.read_csv(Renewable_Consumption_path, index_col=\"Year\")\n",
    "renewable_production_data = pd.read_csv(Renewable_Path, index_col=\"Year\")\n",
    "Total_Energy_Nominal_data = pd.read_csv(Total_Energy_Nominal_Path)\n",
    "Prod_Price_combined_df = pd.concat([production_data, Total_Energy_Nominal_data], axis=\"columns\", join=\"inner\")\n",
    "Consu_Price_combined_df = pd.concat([consumption_data, Total_Energy_Nominal_data], axis=\"columns\", join=\"inner\")\n",
    "Consu_Prod_combined_df = pd.concat([consumption_data, production_data], axis=\"columns\", join=\"inner\")"
   ]
  },
  {
   "cell_type": "code",
   "execution_count": 7,
   "metadata": {},
   "outputs": [],
   "source": [
    "# Define Panel Visualization Functions\n",
    "\n",
    "def Production_plot():\n",
    "    \"\"\"Production Plot\"\"\"\n",
    "    \n",
    "    Production = production_data.loc[:, [ 'Year','Crude Oil and Lease Condensate quads', 'Natural Gas Plant Liquids quads', 'Coal quads', 'Nuclear quads', 'Hydropower quads', 'Other Renewable Energy quads']]\n",
    "\n",
    "    return Production.hvplot.line(x='Year', y=['Crude Oil and Lease Condensate quads', 'Natural Gas Plant Liquids quads', 'Coal quads', 'Nuclear quads','Hydropower quads','Other Renewable Energy quads']).opts(title=\"Production\", width=800)\n",
    "\n",
    "def Production_bargraph():\n",
    "    \"\"\"Production Bargraph\"\"\"\n",
    "\n",
    "    Production = production_data.loc[:, [ 'Year','Crude Oil and Lease Condensate quads', 'Natural Gas Plant Liquids quads', 'Coal quads', 'Nuclear quads', 'Hydropower quads', 'Other Renewable Energy quads']]\n",
    "\n",
    "    return Production.hvplot.bar(x='Year', y=['Crude Oil and Lease Condensate quads', 'Natural Gas Plant Liquids quads', 'Coal quads', 'Nuclear quads','Hydropower quads','Other Renewable Energy quads'], height=600, width=800, rot=90)\n",
    "\n",
    "def Consumption_linegraph():\n",
    "    \"\"\"Consumption Line Graph\"\"\"\n",
    "\n",
    "    consumption = consumption_data.loc[:,['Year','Liquid Fuels quads', 'Natural Gas quads','Coal quads', 'Nuclear quads', 'Hydropower quads', 'Other Renewable Energy quads']]\n",
    "\n",
    "    return consumption.hvplot.line(x='Year', y=[ 'Liquid Fuels quads', 'Natural Gas quads','Coal quads', 'Nuclear quads','Hydropower quads','Other Renewable Energy quads']).opts(title=\"Consumption Line\", width=800)\n",
    "\n",
    "def Consumption_Bargraph():\n",
    "    \"\"\"Consumption Bar Graph\"\"\"\n",
    "\n",
    "    consumption = consumption_data.loc[:,['Year','Liquid Fuels quads', 'Natural Gas quads','Coal quads', 'Nuclear quads', 'Hydropower quads', 'Other Renewable Energy quads']]\n",
    "\n",
    "    return consumption.hvplot.bar(x='Year', y=['Liquid Fuels quads', 'Natural Gas quads','Coal quads', 'Nuclear quads','Hydropower quads','Other Renewable Energy quads'], height=600, width=800, rot=90)\n",
    "\n",
    "def Nonrenewable_Production():\n",
    "    \"\"\"Non-renewable Production\"\"\"\n",
    "\n",
    "    Production = production_data.loc[:, [ 'Year','Crude Oil and Lease Condensate quads', 'Natural Gas Plant Liquids quads', 'Coal quads', 'Nuclear quads']]\n",
    "\n",
    "    return Production.hvplot.line(x='Year', y=['Crude Oil and Lease Condensate quads', 'Natural Gas Plant Liquids quads', 'Coal quads', 'Nuclear quads'], title='Non-renewable Energy Production')\n",
    "\n",
    "def Renewable_Production():\n",
    "    \"\"\"Renewable Production\"\"\"\n",
    "\n",
    "    Production = production_data.loc[:, ['Year','Hydropower quads', 'Biomass quads',\t'Other Renewable Energy quads']]\n",
    "\n",
    "    return Production.hvplot.line(x='Year', y=['Hydropower quads','Biomass quads',\t'Other Renewable Energy quads'], title='Renewable Energy Production')\n",
    "\n",
    "def Renewable_Energy_Barchart():\n",
    "    \"\"\"Renewable Energy Barchart\"\"\"\n",
    "\n",
    "    Production = production_data.loc[:, ['Year','Hydropower quads', 'Biomass quads',\t'Other Renewable Energy quads']]\n",
    "\n",
    "    return Production.hvplot.bar(\n",
    "    title= \"Renewable Energy Production\", \n",
    "    x='Year', \n",
    "    y=['Hydropower quads', 'Biomass quads', 'Other Renewable Energy quads'], height=500, width=800, rot=90\n",
    "\n",
    ")\n",
    "\n",
    "def Renewable_Consumption_Line():\n",
    "    \"\"\"Renewable Consumption Line\"\"\"\n",
    "\n",
    "    consumption = consumption_data.loc[:,['Year','Hydropower quads', 'Biomass quads', 'Other Renewable Energy quads' ]]\n",
    "\n",
    "    return consumption.hvplot.line(\n",
    "    title= \"Renewable Energy Consumption\", \n",
    "    x='Year', \n",
    "    y=[ 'Hydropower quads','Biomass quads', 'Other Renewable Energy quads']\n",
    "\n",
    ")\n",
    "\n",
    "def Nonrenewable_Consumption_Line():\n",
    "    \"\"\"Non-renewable Consumption Line\"\"\"\n",
    "\n",
    "    consumption = consumption_data.loc[:,['Year','Liquid Fuels quads', 'Natural Gas quads','Coal quads', 'Nuclear quads']]\n",
    "\n",
    "    return consumption.hvplot.line(\n",
    "    title= \"Non-renewable Energy Consumption\", \n",
    "    x='Year', \n",
    "    y=[ 'Liquid Fuels quads', 'Natural Gas quads','Coal quads', 'Nuclear quads']\n",
    "\n",
    ")\n",
    "\n",
    "def Non_Renew_Prod_Heatmap():\n",
    "    \"\"\"Non-Renewable Production to Price Correlation Heatmap\"\"\"\n",
    "\n",
    "    nonrenewable_production = production_data.loc[:, ['Crude Oil and Lease Condensate quads', 'Natural Gas Plant Liquids quads', 'Dry Natural Gas quads', 'Coal quads','Nuclear quads', 'Other quads']]\n",
    "\n",
    "    Energy_Price = Total_Energy_Nominal_data.loc[:, ['West Texas Intermediate (nom $/b) nom $/b', 'Gas Price at Henry Hub (nom $/MMBtu) nom $/MMBtu', 'Coal at Minemouth (nom $/ton) nom $/ton', 'Electricity (nom cents/kWh) nom cents/kWh']]\n",
    "\n",
    "    Prod_Price_combined_df = pd.concat([nonrenewable_production, Energy_Price], axis=\"columns\", join=\"inner\")\n",
    "\n",
    "    Prod_Price_correlation = Prod_Price_combined_df.corr()\n",
    "\n",
    "    fig = plt.Figure(figsize=(10, 6))\n",
    "    ax = fig.add_subplot(111)\n",
    "    sns.heatmap(Prod_Price_correlation, vmin=-1, vmax=1, ax=ax)\n",
    "\n",
    "    return pn.pane.Matplotlib(fig)\n",
    "def Non_Renew_Use_Heatmap():\n",
    "    \"\"\"Non-Renewable consumption to Price Correlation Heatmap\"\"\"\n",
    "\n",
    "    Nonrenewable_Consumption = Energy_Consumption.loc[:, ['Liquid Fuels quads', 'Natural Gas quads', 'Coal quads','Nuclear quads']]\n",
    "\n",
    "    Energy_Price = Total_Energy_Nominal_data.loc[:, ['West Texas Intermediate (nom $/b) nom $/b', 'Gas Price at Henry Hub (nom $/MMBtu) nom $/MMBtu', 'Coal at Minemouth (nom $/ton) nom $/ton', 'Electricity (nom cents/kWh) nom cents/kWh']]\n",
    "\n",
    "    Consu_Price_combined_df = pd.concat([Nonrenewable_Consumption, Energy_Price], axis=\"columns\", join=\"inner\")\n",
    "\n",
    "    Consu_Price_correlation = Consu_Price_combined_df.corr()\n",
    "\n",
    "    fig = plt.Figure(figsize=(10, 6))\n",
    "    ax = fig.add_subplot(111)\n",
    "    sns.heatmap(Consu_Price_correlation, vmin=-1, vmax=1, ax=ax)\n",
    "\n",
    "    return pn.pane.Matplotlib(fig)"
   ]
  },
  {
   "cell_type": "code",
   "execution_count": 8,
   "metadata": {},
   "outputs": [
    {
     "output_type": "error",
     "ename": "ValueError",
     "evalue": "Matplotlib figure has no canvas and cannot be rendered.",
     "traceback": [
      "\u001b[0;31m---------------------------------------------------------------------------\u001b[0m",
      "\u001b[0;31mValueError\u001b[0m                                Traceback (most recent call last)",
      "\u001b[0;32m<ipython-input-8-d4064216bcad>\u001b[0m in \u001b[0;36m<module>\u001b[0;34m\u001b[0m\n\u001b[1;32m      2\u001b[0m \u001b[0mproduction_data\u001b[0m \u001b[0;34m=\u001b[0m \u001b[0mproduction_data\u001b[0m\u001b[0;34m.\u001b[0m\u001b[0miloc\u001b[0m\u001b[0;34m[\u001b[0m\u001b[0;36m15\u001b[0m\u001b[0;34m:\u001b[0m\u001b[0;34m-\u001b[0m\u001b[0;36m1\u001b[0m\u001b[0;34m]\u001b[0m\u001b[0;34m\u001b[0m\u001b[0;34m\u001b[0m\u001b[0m\n\u001b[1;32m      3\u001b[0m \u001b[0;34m\u001b[0m\u001b[0m\n\u001b[0;32m----> 4\u001b[0;31m \u001b[0mwelcome_tab\u001b[0m \u001b[0;34m=\u001b[0m \u001b[0mpn\u001b[0m\u001b[0;34m.\u001b[0m\u001b[0mColumn\u001b[0m\u001b[0;34m(\u001b[0m\u001b[0;34m'#Energy'\u001b[0m\u001b[0;34m,\u001b[0m \u001b[0mNon_Renew_Prod_Heatmap\u001b[0m\u001b[0;34m(\u001b[0m\u001b[0;34m)\u001b[0m\u001b[0;34m,\u001b[0m \u001b[0mNon_Renew_Use_Heatmap\u001b[0m\u001b[0;34m(\u001b[0m\u001b[0;34m)\u001b[0m\u001b[0;34m,\u001b[0m \u001b[0mProduction_plot\u001b[0m\u001b[0;34m(\u001b[0m\u001b[0;34m)\u001b[0m\u001b[0;34m)\u001b[0m\u001b[0;34m\u001b[0m\u001b[0;34m\u001b[0m\u001b[0m\n\u001b[0m\u001b[1;32m      5\u001b[0m \u001b[0mrenewable_column\u001b[0m \u001b[0;34m=\u001b[0m \u001b[0mpn\u001b[0m\u001b[0;34m.\u001b[0m\u001b[0mColumn\u001b[0m\u001b[0;34m(\u001b[0m\u001b[0mProduction_bargraph\u001b[0m\u001b[0;34m(\u001b[0m\u001b[0;34m)\u001b[0m\u001b[0;34m,\u001b[0m \u001b[0mConsumption_linegraph\u001b[0m\u001b[0;34m(\u001b[0m\u001b[0;34m)\u001b[0m\u001b[0;34m,\u001b[0m \u001b[0mConsumption_Bargraph\u001b[0m\u001b[0;34m(\u001b[0m\u001b[0;34m)\u001b[0m\u001b[0;34m)\u001b[0m\u001b[0;34m\u001b[0m\u001b[0;34m\u001b[0m\u001b[0m\n\u001b[1;32m      6\u001b[0m \u001b[0mrenewable_graphs\u001b[0m \u001b[0;34m=\u001b[0m \u001b[0mpn\u001b[0m\u001b[0;34m.\u001b[0m\u001b[0mColumn\u001b[0m\u001b[0;34m(\u001b[0m\u001b[0;34m'Renewable Energy'\u001b[0m\u001b[0;34m,\u001b[0m \u001b[0mrenewable_column\u001b[0m\u001b[0;34m)\u001b[0m\u001b[0;34m\u001b[0m\u001b[0;34m\u001b[0m\u001b[0m\n",
      "\u001b[0;32m<ipython-input-7-2cb7afecacad>\u001b[0m in \u001b[0;36mNon_Renew_Prod_Heatmap\u001b[0;34m()\u001b[0m\n\u001b[1;32m     94\u001b[0m     \u001b[0msns\u001b[0m\u001b[0;34m.\u001b[0m\u001b[0mheatmap\u001b[0m\u001b[0;34m(\u001b[0m\u001b[0mProd_Price_correlation\u001b[0m\u001b[0;34m,\u001b[0m \u001b[0mvmin\u001b[0m\u001b[0;34m=\u001b[0m\u001b[0;34m-\u001b[0m\u001b[0;36m1\u001b[0m\u001b[0;34m,\u001b[0m \u001b[0mvmax\u001b[0m\u001b[0;34m=\u001b[0m\u001b[0;36m1\u001b[0m\u001b[0;34m,\u001b[0m \u001b[0max\u001b[0m\u001b[0;34m=\u001b[0m\u001b[0max\u001b[0m\u001b[0;34m)\u001b[0m\u001b[0;34m\u001b[0m\u001b[0;34m\u001b[0m\u001b[0m\n\u001b[1;32m     95\u001b[0m \u001b[0;34m\u001b[0m\u001b[0m\n\u001b[0;32m---> 96\u001b[0;31m     \u001b[0;32mreturn\u001b[0m \u001b[0mpn\u001b[0m\u001b[0;34m.\u001b[0m\u001b[0mpane\u001b[0m\u001b[0;34m.\u001b[0m\u001b[0mMatplotlib\u001b[0m\u001b[0;34m(\u001b[0m\u001b[0mfig\u001b[0m\u001b[0;34m)\u001b[0m\u001b[0;34m\u001b[0m\u001b[0;34m\u001b[0m\u001b[0m\n\u001b[0m\u001b[1;32m     97\u001b[0m \u001b[0;32mdef\u001b[0m \u001b[0mNon_Renew_Use_Heatmap\u001b[0m\u001b[0;34m(\u001b[0m\u001b[0;34m)\u001b[0m\u001b[0;34m:\u001b[0m\u001b[0;34m\u001b[0m\u001b[0;34m\u001b[0m\u001b[0m\n\u001b[1;32m     98\u001b[0m     \u001b[0;34m\"\"\"Non-Renewable consumption to Price Correlation Heatmap\"\"\"\u001b[0m\u001b[0;34m\u001b[0m\u001b[0;34m\u001b[0m\u001b[0m\n",
      "\u001b[0;32m~/opt/anaconda3/envs/pyvizenv/lib/python3.7/site-packages/panel/pane/base.py\u001b[0m in \u001b[0;36m__init__\u001b[0;34m(self, object, **params)\u001b[0m\n\u001b[1;32m    105\u001b[0m \u001b[0;34m\u001b[0m\u001b[0m\n\u001b[1;32m    106\u001b[0m     \u001b[0;32mdef\u001b[0m \u001b[0m__init__\u001b[0m\u001b[0;34m(\u001b[0m\u001b[0mself\u001b[0m\u001b[0;34m,\u001b[0m \u001b[0mobject\u001b[0m\u001b[0;34m=\u001b[0m\u001b[0;32mNone\u001b[0m\u001b[0;34m,\u001b[0m \u001b[0;34m**\u001b[0m\u001b[0mparams\u001b[0m\u001b[0;34m)\u001b[0m\u001b[0;34m:\u001b[0m\u001b[0;34m\u001b[0m\u001b[0;34m\u001b[0m\u001b[0m\n\u001b[0;32m--> 107\u001b[0;31m         \u001b[0mapplies\u001b[0m \u001b[0;34m=\u001b[0m \u001b[0mself\u001b[0m\u001b[0;34m.\u001b[0m\u001b[0mapplies\u001b[0m\u001b[0;34m(\u001b[0m\u001b[0mobject\u001b[0m\u001b[0;34m,\u001b[0m \u001b[0;34m**\u001b[0m\u001b[0;34m(\u001b[0m\u001b[0mparams\u001b[0m \u001b[0;32mif\u001b[0m \u001b[0mself\u001b[0m\u001b[0;34m.\u001b[0m\u001b[0m_applies_kw\u001b[0m \u001b[0;32melse\u001b[0m \u001b[0;34m{\u001b[0m\u001b[0;34m}\u001b[0m\u001b[0;34m)\u001b[0m\u001b[0;34m)\u001b[0m\u001b[0;34m\u001b[0m\u001b[0;34m\u001b[0m\u001b[0m\n\u001b[0m\u001b[1;32m    108\u001b[0m         \u001b[0;32mif\u001b[0m \u001b[0;34m(\u001b[0m\u001b[0misinstance\u001b[0m\u001b[0;34m(\u001b[0m\u001b[0mapplies\u001b[0m\u001b[0;34m,\u001b[0m \u001b[0mbool\u001b[0m\u001b[0;34m)\u001b[0m \u001b[0;32mand\u001b[0m \u001b[0;32mnot\u001b[0m \u001b[0mapplies\u001b[0m\u001b[0;34m)\u001b[0m \u001b[0;32mand\u001b[0m \u001b[0mobject\u001b[0m \u001b[0;32mis\u001b[0m \u001b[0;32mnot\u001b[0m \u001b[0;32mNone\u001b[0m \u001b[0;34m:\u001b[0m\u001b[0;34m\u001b[0m\u001b[0;34m\u001b[0m\u001b[0m\n\u001b[1;32m    109\u001b[0m             \u001b[0mself\u001b[0m\u001b[0;34m.\u001b[0m\u001b[0m_type_error\u001b[0m\u001b[0;34m(\u001b[0m\u001b[0mobject\u001b[0m\u001b[0;34m)\u001b[0m\u001b[0;34m\u001b[0m\u001b[0;34m\u001b[0m\u001b[0m\n",
      "\u001b[0;32m~/opt/anaconda3/envs/pyvizenv/lib/python3.7/site-packages/panel/pane/plot.py\u001b[0m in \u001b[0;36mapplies\u001b[0;34m(cls, obj)\u001b[0m\n\u001b[1;32m    139\u001b[0m         \u001b[0mis_fig\u001b[0m \u001b[0;34m=\u001b[0m \u001b[0misinstance\u001b[0m\u001b[0;34m(\u001b[0m\u001b[0mobj\u001b[0m\u001b[0;34m,\u001b[0m \u001b[0mFigure\u001b[0m\u001b[0;34m)\u001b[0m\u001b[0;34m\u001b[0m\u001b[0;34m\u001b[0m\u001b[0m\n\u001b[1;32m    140\u001b[0m         \u001b[0;32mif\u001b[0m \u001b[0mis_fig\u001b[0m \u001b[0;32mand\u001b[0m \u001b[0mobj\u001b[0m\u001b[0;34m.\u001b[0m\u001b[0mcanvas\u001b[0m \u001b[0;32mis\u001b[0m \u001b[0;32mNone\u001b[0m\u001b[0;34m:\u001b[0m\u001b[0;34m\u001b[0m\u001b[0;34m\u001b[0m\u001b[0m\n\u001b[0;32m--> 141\u001b[0;31m             raise ValueError('Matplotlib figure has no canvas and '\n\u001b[0m\u001b[1;32m    142\u001b[0m                              'cannot be rendered.')\n\u001b[1;32m    143\u001b[0m         \u001b[0;32mreturn\u001b[0m \u001b[0mis_fig\u001b[0m\u001b[0;34m\u001b[0m\u001b[0;34m\u001b[0m\u001b[0m\n",
      "\u001b[0;31mValueError\u001b[0m: Matplotlib figure has no canvas and cannot be rendered."
     ]
    }
   ],
   "source": [
    "consumption_data = consumption_data.iloc[20:-1]\n",
    "production_data = production_data.iloc[15:-1]\n",
    "\n",
    "welcome_tab = pn.Column('#Energy', Non_Renew_Prod_Heatmap(), Non_Renew_Use_Heatmap(), Production_plot())\n",
    "renewable_column = pn.Column(Production_bargraph(), Consumption_linegraph(), Consumption_Bargraph())\n",
    "renewable_graphs = pn.Column('Renewable Energy', renewable_column)\n",
    "column = pn.Column('Non-Renewable Energy', Nonrenewable_Production(), Renewable_Production(), Renewable_Energy_Barchart(), Renewable_Consumption_Line(), Nonrenewable_Consumption_Line())\n",
    "panel = pn.Tabs(\n",
    "    (\"Welcome\", welcome_tab),\n",
    "    (\"Renewable Energy\", renewable_graphs),\n",
    "    (\"Non-Renewable Energy\", column))"
   ]
  },
  {
   "cell_type": "code",
   "execution_count": 11,
   "metadata": {},
   "outputs": [
    {
     "output_type": "error",
     "ename": "AttributeError",
     "evalue": "module 'panel' has no attribute 'servable'",
     "traceback": [
      "\u001b[0;31m---------------------------------------------------------------------------\u001b[0m",
      "\u001b[0;31mAttributeError\u001b[0m                            Traceback (most recent call last)",
      "\u001b[0;32m<ipython-input-11-80fbc87c81a7>\u001b[0m in \u001b[0;36m<module>\u001b[0;34m\u001b[0m\n\u001b[0;32m----> 1\u001b[0;31m \u001b[0mpn\u001b[0m\u001b[0;34m.\u001b[0m\u001b[0mservable\u001b[0m\u001b[0;34m(\u001b[0m\u001b[0;34m)\u001b[0m\u001b[0;34m\u001b[0m\u001b[0;34m\u001b[0m\u001b[0m\n\u001b[0m",
      "\u001b[0;31mAttributeError\u001b[0m: module 'panel' has no attribute 'servable'"
     ]
    }
   ],
   "source": [
    "panel.servable()"
   ]
  },
  {
   "cell_type": "code",
   "execution_count": null,
   "metadata": {},
   "outputs": [],
   "source": []
  },
  {
   "cell_type": "code",
   "execution_count": null,
   "metadata": {},
   "outputs": [],
   "source": []
  }
 ]
}