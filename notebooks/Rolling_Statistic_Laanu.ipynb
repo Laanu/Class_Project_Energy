{
 "metadata": {
  "language_info": {
   "codemirror_mode": {
    "name": "ipython",
    "version": 3
   },
   "file_extension": ".py",
   "mimetype": "text/x-python",
   "name": "python",
   "nbconvert_exporter": "python",
   "pygments_lexer": "ipython3",
   "version": "3.8.3-final"
  },
  "orig_nbformat": 2,
  "kernelspec": {
   "name": "Python 3.8.3 64-bit ('base': conda)",
   "display_name": "Python 3.8.3 64-bit ('base': conda)",
   "metadata": {
    "interpreter": {
     "hash": "17768faa9740a7a627b53c0a447c29a5dec5cb382f43934531627940642b9218"
    }
   }
  }
 },
 "nbformat": 4,
 "nbformat_minor": 2,
 "cells": [
  {
   "cell_type": "code",
   "execution_count": 87,
   "metadata": {},
   "outputs": [],
   "source": [
    "import os\n",
    "import requests\n",
    "import json\n",
    "import pandas as pd\n",
    "from pathlib import Path\n",
    "import seaborn as sns\n",
    "from dotenv import load_dotenv\n",
    "import alpaca_trade_api as tradeapi"
   ]
  },
  {
   "cell_type": "code",
   "execution_count": 88,
   "metadata": {},
   "outputs": [],
   "source": [
    "# Set Alpaca API key and secret\n",
    "alpaca_api_key = os.getenv(\"APCA_API_KEY\")\n",
    "alpaca_secret_key = os.getenv(\"APCA_API_SECRET\")\n",
    "\n",
    "\n",
    "# Create the Alpaca API object\n",
    "alpaca = tradeapi.REST(\n",
    "    alpaca_api_key,\n",
    "    alpaca_secret_key,\n",
    "    api_version=\"v2\")"
   ]
  },
  {
   "cell_type": "code",
   "execution_count": 89,
   "metadata": {},
   "outputs": [
    {
     "output_type": "execute_result",
     "data": {
      "text/plain": [
       "                              TAN                                     \n",
       "                             open      high       low   close   volume\n",
       "time                                                                  \n",
       "2008-08-07 00:00:00-04:00  230.00  232.1000  228.5000  229.10     6624\n",
       "2008-08-08 00:00:00-04:00  228.90  228.9000  225.0000  225.60     6446\n",
       "2008-08-11 00:00:00-04:00  219.60  228.4000  219.6000  222.00    14975\n",
       "2008-08-12 00:00:00-04:00  225.60  231.5000  225.6000  228.10    14852\n",
       "2008-08-13 00:00:00-04:00  229.30  231.8000  224.2000  230.30     7030\n",
       "...                           ...       ...       ...     ...      ...\n",
       "2020-08-03 00:00:00-04:00   45.12   46.1800   44.7120   45.96  1319676\n",
       "2020-08-04 00:00:00-04:00   47.24   49.1899   47.1000   49.08  1952026\n",
       "2020-08-05 00:00:00-04:00   49.17   50.8600   48.6900   50.72  1638138\n",
       "2020-08-06 00:00:00-04:00   50.73   51.2290   49.6200   50.16  1421778\n",
       "2020-08-07 00:00:00-04:00   50.31   52.0628   50.2901   51.16  1571908\n",
       "\n",
       "[3022 rows x 5 columns]"
      ],
      "text/html": "<div>\n<style scoped>\n    .dataframe tbody tr th:only-of-type {\n        vertical-align: middle;\n    }\n\n    .dataframe tbody tr th {\n        vertical-align: top;\n    }\n\n    .dataframe thead tr th {\n        text-align: left;\n    }\n\n    .dataframe thead tr:last-of-type th {\n        text-align: right;\n    }\n</style>\n<table border=\"1\" class=\"dataframe\">\n  <thead>\n    <tr>\n      <th></th>\n      <th colspan=\"5\" halign=\"left\">TAN</th>\n    </tr>\n    <tr>\n      <th></th>\n      <th>open</th>\n      <th>high</th>\n      <th>low</th>\n      <th>close</th>\n      <th>volume</th>\n    </tr>\n    <tr>\n      <th>time</th>\n      <th></th>\n      <th></th>\n      <th></th>\n      <th></th>\n      <th></th>\n    </tr>\n  </thead>\n  <tbody>\n    <tr>\n      <th>2008-08-07 00:00:00-04:00</th>\n      <td>230.00</td>\n      <td>232.1000</td>\n      <td>228.5000</td>\n      <td>229.10</td>\n      <td>6624</td>\n    </tr>\n    <tr>\n      <th>2008-08-08 00:00:00-04:00</th>\n      <td>228.90</td>\n      <td>228.9000</td>\n      <td>225.0000</td>\n      <td>225.60</td>\n      <td>6446</td>\n    </tr>\n    <tr>\n      <th>2008-08-11 00:00:00-04:00</th>\n      <td>219.60</td>\n      <td>228.4000</td>\n      <td>219.6000</td>\n      <td>222.00</td>\n      <td>14975</td>\n    </tr>\n    <tr>\n      <th>2008-08-12 00:00:00-04:00</th>\n      <td>225.60</td>\n      <td>231.5000</td>\n      <td>225.6000</td>\n      <td>228.10</td>\n      <td>14852</td>\n    </tr>\n    <tr>\n      <th>2008-08-13 00:00:00-04:00</th>\n      <td>229.30</td>\n      <td>231.8000</td>\n      <td>224.2000</td>\n      <td>230.30</td>\n      <td>7030</td>\n    </tr>\n    <tr>\n      <th>...</th>\n      <td>...</td>\n      <td>...</td>\n      <td>...</td>\n      <td>...</td>\n      <td>...</td>\n    </tr>\n    <tr>\n      <th>2020-08-03 00:00:00-04:00</th>\n      <td>45.12</td>\n      <td>46.1800</td>\n      <td>44.7120</td>\n      <td>45.96</td>\n      <td>1319676</td>\n    </tr>\n    <tr>\n      <th>2020-08-04 00:00:00-04:00</th>\n      <td>47.24</td>\n      <td>49.1899</td>\n      <td>47.1000</td>\n      <td>49.08</td>\n      <td>1952026</td>\n    </tr>\n    <tr>\n      <th>2020-08-05 00:00:00-04:00</th>\n      <td>49.17</td>\n      <td>50.8600</td>\n      <td>48.6900</td>\n      <td>50.72</td>\n      <td>1638138</td>\n    </tr>\n    <tr>\n      <th>2020-08-06 00:00:00-04:00</th>\n      <td>50.73</td>\n      <td>51.2290</td>\n      <td>49.6200</td>\n      <td>50.16</td>\n      <td>1421778</td>\n    </tr>\n    <tr>\n      <th>2020-08-07 00:00:00-04:00</th>\n      <td>50.31</td>\n      <td>52.0628</td>\n      <td>50.2901</td>\n      <td>51.16</td>\n      <td>1571908</td>\n    </tr>\n  </tbody>\n</table>\n<p>3022 rows × 5 columns</p>\n</div>"
     },
     "metadata": {},
     "execution_count": 89
    }
   ],
   "source": [
    "# Set start and end dates of five years back from today.\n",
    "# Sample results may vary from the solution based on the time frame chosen\n",
    "start_date = pd.Timestamp('2008-08-07', tz='America/New_York').isoformat()\n",
    "end_date = pd.Timestamp('2020-08-07', tz='America/New_York').isoformat()\n",
    "\n",
    "\n",
    "tickers = [\"TAN\"]\n",
    "\n",
    "\n",
    "timeframe = \"1D\"\n",
    "\n",
    "Renewable_stock_data = alpaca.get_barset(\n",
    "    tickers,\n",
    "    timeframe,\n",
    "    start = start_date,\n",
    "    end = end_date\n",
    ").df\n",
    "# Display sample data\n",
    "Renewable_stock_data"
   ]
  },
  {
   "cell_type": "code",
   "execution_count": 90,
   "metadata": {},
   "outputs": [
    {
     "output_type": "execute_result",
     "data": {
      "text/plain": [
       "                             XLE                                  \n",
       "                            open    high      low  close    volume\n",
       "time                                                              \n",
       "2008-08-07 00:00:00-04:00  73.76  73.970  71.8600  71.89  28910888\n",
       "2008-08-08 00:00:00-04:00  71.30  71.690  69.7200  71.28  33631235\n",
       "2008-08-11 00:00:00-04:00  71.69  72.010  69.6600  70.98  31392190\n",
       "2008-08-12 00:00:00-04:00  71.59  71.840  70.6200  70.74  30657524\n",
       "2008-08-13 00:00:00-04:00  70.77  73.510  70.7700  73.25  42832058\n",
       "...                          ...     ...      ...    ...       ...\n",
       "2020-08-03 00:00:00-04:00  36.02  36.360  35.7200  36.16  30382854\n",
       "2020-08-04 00:00:00-04:00  36.04  37.120  36.0058  37.04  44438406\n",
       "2020-08-05 00:00:00-04:00  37.77  37.900  37.0850  37.43  55714505\n",
       "2020-08-06 00:00:00-04:00  37.22  37.555  36.9900  37.13  37525814\n",
       "2020-08-07 00:00:00-04:00  36.84  37.270  36.3700  37.18  31673676\n",
       "\n",
       "[3022 rows x 5 columns]"
      ],
      "text/html": "<div>\n<style scoped>\n    .dataframe tbody tr th:only-of-type {\n        vertical-align: middle;\n    }\n\n    .dataframe tbody tr th {\n        vertical-align: top;\n    }\n\n    .dataframe thead tr th {\n        text-align: left;\n    }\n\n    .dataframe thead tr:last-of-type th {\n        text-align: right;\n    }\n</style>\n<table border=\"1\" class=\"dataframe\">\n  <thead>\n    <tr>\n      <th></th>\n      <th colspan=\"5\" halign=\"left\">XLE</th>\n    </tr>\n    <tr>\n      <th></th>\n      <th>open</th>\n      <th>high</th>\n      <th>low</th>\n      <th>close</th>\n      <th>volume</th>\n    </tr>\n    <tr>\n      <th>time</th>\n      <th></th>\n      <th></th>\n      <th></th>\n      <th></th>\n      <th></th>\n    </tr>\n  </thead>\n  <tbody>\n    <tr>\n      <th>2008-08-07 00:00:00-04:00</th>\n      <td>73.76</td>\n      <td>73.970</td>\n      <td>71.8600</td>\n      <td>71.89</td>\n      <td>28910888</td>\n    </tr>\n    <tr>\n      <th>2008-08-08 00:00:00-04:00</th>\n      <td>71.30</td>\n      <td>71.690</td>\n      <td>69.7200</td>\n      <td>71.28</td>\n      <td>33631235</td>\n    </tr>\n    <tr>\n      <th>2008-08-11 00:00:00-04:00</th>\n      <td>71.69</td>\n      <td>72.010</td>\n      <td>69.6600</td>\n      <td>70.98</td>\n      <td>31392190</td>\n    </tr>\n    <tr>\n      <th>2008-08-12 00:00:00-04:00</th>\n      <td>71.59</td>\n      <td>71.840</td>\n      <td>70.6200</td>\n      <td>70.74</td>\n      <td>30657524</td>\n    </tr>\n    <tr>\n      <th>2008-08-13 00:00:00-04:00</th>\n      <td>70.77</td>\n      <td>73.510</td>\n      <td>70.7700</td>\n      <td>73.25</td>\n      <td>42832058</td>\n    </tr>\n    <tr>\n      <th>...</th>\n      <td>...</td>\n      <td>...</td>\n      <td>...</td>\n      <td>...</td>\n      <td>...</td>\n    </tr>\n    <tr>\n      <th>2020-08-03 00:00:00-04:00</th>\n      <td>36.02</td>\n      <td>36.360</td>\n      <td>35.7200</td>\n      <td>36.16</td>\n      <td>30382854</td>\n    </tr>\n    <tr>\n      <th>2020-08-04 00:00:00-04:00</th>\n      <td>36.04</td>\n      <td>37.120</td>\n      <td>36.0058</td>\n      <td>37.04</td>\n      <td>44438406</td>\n    </tr>\n    <tr>\n      <th>2020-08-05 00:00:00-04:00</th>\n      <td>37.77</td>\n      <td>37.900</td>\n      <td>37.0850</td>\n      <td>37.43</td>\n      <td>55714505</td>\n    </tr>\n    <tr>\n      <th>2020-08-06 00:00:00-04:00</th>\n      <td>37.22</td>\n      <td>37.555</td>\n      <td>36.9900</td>\n      <td>37.13</td>\n      <td>37525814</td>\n    </tr>\n    <tr>\n      <th>2020-08-07 00:00:00-04:00</th>\n      <td>36.84</td>\n      <td>37.270</td>\n      <td>36.3700</td>\n      <td>37.18</td>\n      <td>31673676</td>\n    </tr>\n  </tbody>\n</table>\n<p>3022 rows × 5 columns</p>\n</div>"
     },
     "metadata": {},
     "execution_count": 90
    }
   ],
   "source": [
    "# Set start and end dates of five years back from today.\n",
    "# Sample results may vary from the solution based on the time frame chosen\n",
    "start_date = pd.Timestamp('2008-08-07', tz='America/New_York').isoformat()\n",
    "end_date = pd.Timestamp('2020-08-07', tz='America/New_York').isoformat()\n",
    "\n",
    "\n",
    "tickers = [\"XLE\"]\n",
    "\n",
    "\n",
    "timeframe = \"1D\"\n",
    "\n",
    "Non_Renewable_stock_data = alpaca.get_barset(\n",
    "    tickers,\n",
    "    timeframe,\n",
    "    start = start_date,\n",
    "    end = end_date\n",
    ").df\n",
    "  \n",
    "# Display sample data\n",
    "Non_Renewable_stock_data"
   ]
  },
  {
   "cell_type": "code",
   "execution_count": 91,
   "metadata": {},
   "outputs": [
    {
     "output_type": "execute_result",
     "data": {
      "text/plain": [
       "                                SPY                                   \n",
       "                               open    high     low   close     volume\n",
       "time                                                                  \n",
       "2008-08-07 00:00:00-04:00  127.9600  128.93  126.54  126.88  210146086\n",
       "2008-08-08 00:00:00-04:00  126.5900  129.93  126.38  129.62  233649444\n",
       "2008-08-11 00:00:00-04:00  129.4500  131.51  129.23  130.65  225829560\n",
       "2008-08-12 00:00:00-04:00  130.2800  130.70  128.73  129.25  196861843\n",
       "2008-08-13 00:00:00-04:00  128.7800  129.65  127.67  128.82  242746390\n",
       "...                             ...     ...     ...     ...        ...\n",
       "2020-08-03 00:00:00-04:00  328.3200  329.62  327.73  328.76   71741125\n",
       "2020-08-04 00:00:00-04:00  327.8600  330.06  327.86  330.03   73684427\n",
       "2020-08-05 00:00:00-04:00  331.4700  332.39  331.18  332.06   72846458\n",
       "2020-08-06 00:00:00-04:00  331.4799  334.46  331.13  334.31   76900649\n",
       "2020-08-07 00:00:00-04:00  333.2800  334.88  332.30  334.55   98710236\n",
       "\n",
       "[3022 rows x 5 columns]"
      ],
      "text/html": "<div>\n<style scoped>\n    .dataframe tbody tr th:only-of-type {\n        vertical-align: middle;\n    }\n\n    .dataframe tbody tr th {\n        vertical-align: top;\n    }\n\n    .dataframe thead tr th {\n        text-align: left;\n    }\n\n    .dataframe thead tr:last-of-type th {\n        text-align: right;\n    }\n</style>\n<table border=\"1\" class=\"dataframe\">\n  <thead>\n    <tr>\n      <th></th>\n      <th colspan=\"5\" halign=\"left\">SPY</th>\n    </tr>\n    <tr>\n      <th></th>\n      <th>open</th>\n      <th>high</th>\n      <th>low</th>\n      <th>close</th>\n      <th>volume</th>\n    </tr>\n    <tr>\n      <th>time</th>\n      <th></th>\n      <th></th>\n      <th></th>\n      <th></th>\n      <th></th>\n    </tr>\n  </thead>\n  <tbody>\n    <tr>\n      <th>2008-08-07 00:00:00-04:00</th>\n      <td>127.9600</td>\n      <td>128.93</td>\n      <td>126.54</td>\n      <td>126.88</td>\n      <td>210146086</td>\n    </tr>\n    <tr>\n      <th>2008-08-08 00:00:00-04:00</th>\n      <td>126.5900</td>\n      <td>129.93</td>\n      <td>126.38</td>\n      <td>129.62</td>\n      <td>233649444</td>\n    </tr>\n    <tr>\n      <th>2008-08-11 00:00:00-04:00</th>\n      <td>129.4500</td>\n      <td>131.51</td>\n      <td>129.23</td>\n      <td>130.65</td>\n      <td>225829560</td>\n    </tr>\n    <tr>\n      <th>2008-08-12 00:00:00-04:00</th>\n      <td>130.2800</td>\n      <td>130.70</td>\n      <td>128.73</td>\n      <td>129.25</td>\n      <td>196861843</td>\n    </tr>\n    <tr>\n      <th>2008-08-13 00:00:00-04:00</th>\n      <td>128.7800</td>\n      <td>129.65</td>\n      <td>127.67</td>\n      <td>128.82</td>\n      <td>242746390</td>\n    </tr>\n    <tr>\n      <th>...</th>\n      <td>...</td>\n      <td>...</td>\n      <td>...</td>\n      <td>...</td>\n      <td>...</td>\n    </tr>\n    <tr>\n      <th>2020-08-03 00:00:00-04:00</th>\n      <td>328.3200</td>\n      <td>329.62</td>\n      <td>327.73</td>\n      <td>328.76</td>\n      <td>71741125</td>\n    </tr>\n    <tr>\n      <th>2020-08-04 00:00:00-04:00</th>\n      <td>327.8600</td>\n      <td>330.06</td>\n      <td>327.86</td>\n      <td>330.03</td>\n      <td>73684427</td>\n    </tr>\n    <tr>\n      <th>2020-08-05 00:00:00-04:00</th>\n      <td>331.4700</td>\n      <td>332.39</td>\n      <td>331.18</td>\n      <td>332.06</td>\n      <td>72846458</td>\n    </tr>\n    <tr>\n      <th>2020-08-06 00:00:00-04:00</th>\n      <td>331.4799</td>\n      <td>334.46</td>\n      <td>331.13</td>\n      <td>334.31</td>\n      <td>76900649</td>\n    </tr>\n    <tr>\n      <th>2020-08-07 00:00:00-04:00</th>\n      <td>333.2800</td>\n      <td>334.88</td>\n      <td>332.30</td>\n      <td>334.55</td>\n      <td>98710236</td>\n    </tr>\n  </tbody>\n</table>\n<p>3022 rows × 5 columns</p>\n</div>"
     },
     "metadata": {},
     "execution_count": 91
    }
   ],
   "source": [
    "# Set start and end dates of five years back from today.\n",
    "# Sample results may vary from the solution based on the time frame chosen\n",
    "start_date = pd.Timestamp('2008-08-07', tz='America/New_York').isoformat()\n",
    "end_date = pd.Timestamp('2020-08-07', tz='America/New_York').isoformat()\n",
    "\n",
    "\n",
    "tickers = [\"SPY\"]\n",
    "\n",
    "\n",
    "timeframe = \"1D\"\n",
    "\n",
    "SP500_stock_data = alpaca.get_barset(\n",
    "    tickers,\n",
    "    timeframe,\n",
    "    start = start_date,\n",
    "    end = end_date\n",
    ").df\n",
    "  \n",
    "# Display sample data\n",
    "SP500_stock_data\n"
   ]
  },
  {
   "cell_type": "code",
   "execution_count": 103,
   "metadata": {},
   "outputs": [],
   "source": [
    "spy_close_price = SP500_stock_data[\"SPY\"][\"close\"]\n",
    "xle_close_price = Non_Renewable_stock_data[\"XLE\"][\"close\"]\n",
    "tan_close_price = Renewable_stock_data[\"TAN\"][\"close\"]"
   ]
  },
  {
   "cell_type": "code",
   "execution_count": 104,
   "metadata": {},
   "outputs": [
    {
     "output_type": "execute_result",
     "data": {
      "text/plain": [
       "                            close  close\n",
       "time                                    \n",
       "2008-08-07 00:00:00-04:00  126.88  71.89\n",
       "2008-08-08 00:00:00-04:00  129.62  71.28\n",
       "2008-08-11 00:00:00-04:00  130.65  70.98\n",
       "2008-08-12 00:00:00-04:00  129.25  70.74\n",
       "2008-08-13 00:00:00-04:00  128.82  73.25\n",
       "...                           ...    ...\n",
       "2020-08-03 00:00:00-04:00  328.76  36.16\n",
       "2020-08-04 00:00:00-04:00  330.03  37.04\n",
       "2020-08-05 00:00:00-04:00  332.06  37.43\n",
       "2020-08-06 00:00:00-04:00  334.31  37.13\n",
       "2020-08-07 00:00:00-04:00  334.55  37.18\n",
       "\n",
       "[3022 rows x 2 columns]"
      ],
      "text/html": "<div>\n<style scoped>\n    .dataframe tbody tr th:only-of-type {\n        vertical-align: middle;\n    }\n\n    .dataframe tbody tr th {\n        vertical-align: top;\n    }\n\n    .dataframe thead th {\n        text-align: right;\n    }\n</style>\n<table border=\"1\" class=\"dataframe\">\n  <thead>\n    <tr style=\"text-align: right;\">\n      <th></th>\n      <th>close</th>\n      <th>close</th>\n    </tr>\n    <tr>\n      <th>time</th>\n      <th></th>\n      <th></th>\n    </tr>\n  </thead>\n  <tbody>\n    <tr>\n      <th>2008-08-07 00:00:00-04:00</th>\n      <td>126.88</td>\n      <td>71.89</td>\n    </tr>\n    <tr>\n      <th>2008-08-08 00:00:00-04:00</th>\n      <td>129.62</td>\n      <td>71.28</td>\n    </tr>\n    <tr>\n      <th>2008-08-11 00:00:00-04:00</th>\n      <td>130.65</td>\n      <td>70.98</td>\n    </tr>\n    <tr>\n      <th>2008-08-12 00:00:00-04:00</th>\n      <td>129.25</td>\n      <td>70.74</td>\n    </tr>\n    <tr>\n      <th>2008-08-13 00:00:00-04:00</th>\n      <td>128.82</td>\n      <td>73.25</td>\n    </tr>\n    <tr>\n      <th>...</th>\n      <td>...</td>\n      <td>...</td>\n    </tr>\n    <tr>\n      <th>2020-08-03 00:00:00-04:00</th>\n      <td>328.76</td>\n      <td>36.16</td>\n    </tr>\n    <tr>\n      <th>2020-08-04 00:00:00-04:00</th>\n      <td>330.03</td>\n      <td>37.04</td>\n    </tr>\n    <tr>\n      <th>2020-08-05 00:00:00-04:00</th>\n      <td>332.06</td>\n      <td>37.43</td>\n    </tr>\n    <tr>\n      <th>2020-08-06 00:00:00-04:00</th>\n      <td>334.31</td>\n      <td>37.13</td>\n    </tr>\n    <tr>\n      <th>2020-08-07 00:00:00-04:00</th>\n      <td>334.55</td>\n      <td>37.18</td>\n    </tr>\n  </tbody>\n</table>\n<p>3022 rows × 2 columns</p>\n</div>"
     },
     "metadata": {},
     "execution_count": 104
    }
   ],
   "source": [
    "# Use the concat function to combine the DataFrames by column and perform an inner join. \n",
    "Non_Renew_combined_df = pd.concat([spy_close_price, xle_close_price], axis=\"columns\", join=\"inner\")\n",
    "\n",
    "# Sort datetime index in ascending order (past to present)\n",
    "Non_Renew_combined_df.sort_index(inplace=True)\n",
    "\n",
    "# Display a few rows\n",
    "Non_Renew_combined_df"
   ]
  },
  {
   "cell_type": "code",
   "execution_count": 105,
   "metadata": {},
   "outputs": [
    {
     "output_type": "execute_result",
     "data": {
      "text/plain": [
       "                            SP500  Non_Renewable\n",
       "time                                            \n",
       "2008-08-07 00:00:00-04:00  126.88          71.89\n",
       "2008-08-08 00:00:00-04:00  129.62          71.28\n",
       "2008-08-11 00:00:00-04:00  130.65          70.98\n",
       "2008-08-12 00:00:00-04:00  129.25          70.74\n",
       "2008-08-13 00:00:00-04:00  128.82          73.25\n",
       "...                           ...            ...\n",
       "2020-08-03 00:00:00-04:00  328.76          36.16\n",
       "2020-08-04 00:00:00-04:00  330.03          37.04\n",
       "2020-08-05 00:00:00-04:00  332.06          37.43\n",
       "2020-08-06 00:00:00-04:00  334.31          37.13\n",
       "2020-08-07 00:00:00-04:00  334.55          37.18\n",
       "\n",
       "[3022 rows x 2 columns]"
      ],
      "text/html": "<div>\n<style scoped>\n    .dataframe tbody tr th:only-of-type {\n        vertical-align: middle;\n    }\n\n    .dataframe tbody tr th {\n        vertical-align: top;\n    }\n\n    .dataframe thead th {\n        text-align: right;\n    }\n</style>\n<table border=\"1\" class=\"dataframe\">\n  <thead>\n    <tr style=\"text-align: right;\">\n      <th></th>\n      <th>SP500</th>\n      <th>Non_Renewable</th>\n    </tr>\n    <tr>\n      <th>time</th>\n      <th></th>\n      <th></th>\n    </tr>\n  </thead>\n  <tbody>\n    <tr>\n      <th>2008-08-07 00:00:00-04:00</th>\n      <td>126.88</td>\n      <td>71.89</td>\n    </tr>\n    <tr>\n      <th>2008-08-08 00:00:00-04:00</th>\n      <td>129.62</td>\n      <td>71.28</td>\n    </tr>\n    <tr>\n      <th>2008-08-11 00:00:00-04:00</th>\n      <td>130.65</td>\n      <td>70.98</td>\n    </tr>\n    <tr>\n      <th>2008-08-12 00:00:00-04:00</th>\n      <td>129.25</td>\n      <td>70.74</td>\n    </tr>\n    <tr>\n      <th>2008-08-13 00:00:00-04:00</th>\n      <td>128.82</td>\n      <td>73.25</td>\n    </tr>\n    <tr>\n      <th>...</th>\n      <td>...</td>\n      <td>...</td>\n    </tr>\n    <tr>\n      <th>2020-08-03 00:00:00-04:00</th>\n      <td>328.76</td>\n      <td>36.16</td>\n    </tr>\n    <tr>\n      <th>2020-08-04 00:00:00-04:00</th>\n      <td>330.03</td>\n      <td>37.04</td>\n    </tr>\n    <tr>\n      <th>2020-08-05 00:00:00-04:00</th>\n      <td>332.06</td>\n      <td>37.43</td>\n    </tr>\n    <tr>\n      <th>2020-08-06 00:00:00-04:00</th>\n      <td>334.31</td>\n      <td>37.13</td>\n    </tr>\n    <tr>\n      <th>2020-08-07 00:00:00-04:00</th>\n      <td>334.55</td>\n      <td>37.18</td>\n    </tr>\n  </tbody>\n</table>\n<p>3022 rows × 2 columns</p>\n</div>"
     },
     "metadata": {},
     "execution_count": 105
    }
   ],
   "source": [
    "# Pick XLE and SPY close prices\n",
    "Non_Renew_combined_df.columns = ['SP500','Non_Renewable']\n",
    "Non_Renew_combined_df"
   ]
  },
  {
   "cell_type": "code",
   "execution_count": 106,
   "metadata": {},
   "outputs": [
    {
     "output_type": "execute_result",
     "data": {
      "text/plain": [
       "                            close   close\n",
       "time                                     \n",
       "2008-08-07 00:00:00-04:00  126.88  229.10\n",
       "2008-08-08 00:00:00-04:00  129.62  225.60\n",
       "2008-08-11 00:00:00-04:00  130.65  222.00\n",
       "2008-08-12 00:00:00-04:00  129.25  228.10\n",
       "2008-08-13 00:00:00-04:00  128.82  230.30\n",
       "...                           ...     ...\n",
       "2020-08-03 00:00:00-04:00  328.76   45.96\n",
       "2020-08-04 00:00:00-04:00  330.03   49.08\n",
       "2020-08-05 00:00:00-04:00  332.06   50.72\n",
       "2020-08-06 00:00:00-04:00  334.31   50.16\n",
       "2020-08-07 00:00:00-04:00  334.55   51.16\n",
       "\n",
       "[3022 rows x 2 columns]"
      ],
      "text/html": "<div>\n<style scoped>\n    .dataframe tbody tr th:only-of-type {\n        vertical-align: middle;\n    }\n\n    .dataframe tbody tr th {\n        vertical-align: top;\n    }\n\n    .dataframe thead th {\n        text-align: right;\n    }\n</style>\n<table border=\"1\" class=\"dataframe\">\n  <thead>\n    <tr style=\"text-align: right;\">\n      <th></th>\n      <th>close</th>\n      <th>close</th>\n    </tr>\n    <tr>\n      <th>time</th>\n      <th></th>\n      <th></th>\n    </tr>\n  </thead>\n  <tbody>\n    <tr>\n      <th>2008-08-07 00:00:00-04:00</th>\n      <td>126.88</td>\n      <td>229.10</td>\n    </tr>\n    <tr>\n      <th>2008-08-08 00:00:00-04:00</th>\n      <td>129.62</td>\n      <td>225.60</td>\n    </tr>\n    <tr>\n      <th>2008-08-11 00:00:00-04:00</th>\n      <td>130.65</td>\n      <td>222.00</td>\n    </tr>\n    <tr>\n      <th>2008-08-12 00:00:00-04:00</th>\n      <td>129.25</td>\n      <td>228.10</td>\n    </tr>\n    <tr>\n      <th>2008-08-13 00:00:00-04:00</th>\n      <td>128.82</td>\n      <td>230.30</td>\n    </tr>\n    <tr>\n      <th>...</th>\n      <td>...</td>\n      <td>...</td>\n    </tr>\n    <tr>\n      <th>2020-08-03 00:00:00-04:00</th>\n      <td>328.76</td>\n      <td>45.96</td>\n    </tr>\n    <tr>\n      <th>2020-08-04 00:00:00-04:00</th>\n      <td>330.03</td>\n      <td>49.08</td>\n    </tr>\n    <tr>\n      <th>2020-08-05 00:00:00-04:00</th>\n      <td>332.06</td>\n      <td>50.72</td>\n    </tr>\n    <tr>\n      <th>2020-08-06 00:00:00-04:00</th>\n      <td>334.31</td>\n      <td>50.16</td>\n    </tr>\n    <tr>\n      <th>2020-08-07 00:00:00-04:00</th>\n      <td>334.55</td>\n      <td>51.16</td>\n    </tr>\n  </tbody>\n</table>\n<p>3022 rows × 2 columns</p>\n</div>"
     },
     "metadata": {},
     "execution_count": 106
    }
   ],
   "source": [
    "# Use the concat function to combine the DataFrames by column and perform an inner join. \n",
    "Renew_combined_df = pd.concat([spy_close_price, tan_close_price], axis=\"columns\", join=\"inner\")\n",
    "\n",
    "# Sort datetime index in ascending order (past to present)\n",
    "Renew_combined_df.sort_index(inplace=True)\n",
    "\n",
    "# Display a few rows\n",
    "Renew_combined_df"
   ]
  },
  {
   "cell_type": "code",
   "execution_count": 107,
   "metadata": {},
   "outputs": [
    {
     "output_type": "execute_result",
     "data": {
      "text/plain": [
       "                            SP500  Renewable\n",
       "time                                        \n",
       "2008-08-07 00:00:00-04:00  126.88     229.10\n",
       "2008-08-08 00:00:00-04:00  129.62     225.60\n",
       "2008-08-11 00:00:00-04:00  130.65     222.00\n",
       "2008-08-12 00:00:00-04:00  129.25     228.10\n",
       "2008-08-13 00:00:00-04:00  128.82     230.30\n",
       "...                           ...        ...\n",
       "2020-08-03 00:00:00-04:00  328.76      45.96\n",
       "2020-08-04 00:00:00-04:00  330.03      49.08\n",
       "2020-08-05 00:00:00-04:00  332.06      50.72\n",
       "2020-08-06 00:00:00-04:00  334.31      50.16\n",
       "2020-08-07 00:00:00-04:00  334.55      51.16\n",
       "\n",
       "[3022 rows x 2 columns]"
      ],
      "text/html": "<div>\n<style scoped>\n    .dataframe tbody tr th:only-of-type {\n        vertical-align: middle;\n    }\n\n    .dataframe tbody tr th {\n        vertical-align: top;\n    }\n\n    .dataframe thead th {\n        text-align: right;\n    }\n</style>\n<table border=\"1\" class=\"dataframe\">\n  <thead>\n    <tr style=\"text-align: right;\">\n      <th></th>\n      <th>SP500</th>\n      <th>Renewable</th>\n    </tr>\n    <tr>\n      <th>time</th>\n      <th></th>\n      <th></th>\n    </tr>\n  </thead>\n  <tbody>\n    <tr>\n      <th>2008-08-07 00:00:00-04:00</th>\n      <td>126.88</td>\n      <td>229.10</td>\n    </tr>\n    <tr>\n      <th>2008-08-08 00:00:00-04:00</th>\n      <td>129.62</td>\n      <td>225.60</td>\n    </tr>\n    <tr>\n      <th>2008-08-11 00:00:00-04:00</th>\n      <td>130.65</td>\n      <td>222.00</td>\n    </tr>\n    <tr>\n      <th>2008-08-12 00:00:00-04:00</th>\n      <td>129.25</td>\n      <td>228.10</td>\n    </tr>\n    <tr>\n      <th>2008-08-13 00:00:00-04:00</th>\n      <td>128.82</td>\n      <td>230.30</td>\n    </tr>\n    <tr>\n      <th>...</th>\n      <td>...</td>\n      <td>...</td>\n    </tr>\n    <tr>\n      <th>2020-08-03 00:00:00-04:00</th>\n      <td>328.76</td>\n      <td>45.96</td>\n    </tr>\n    <tr>\n      <th>2020-08-04 00:00:00-04:00</th>\n      <td>330.03</td>\n      <td>49.08</td>\n    </tr>\n    <tr>\n      <th>2020-08-05 00:00:00-04:00</th>\n      <td>332.06</td>\n      <td>50.72</td>\n    </tr>\n    <tr>\n      <th>2020-08-06 00:00:00-04:00</th>\n      <td>334.31</td>\n      <td>50.16</td>\n    </tr>\n    <tr>\n      <th>2020-08-07 00:00:00-04:00</th>\n      <td>334.55</td>\n      <td>51.16</td>\n    </tr>\n  </tbody>\n</table>\n<p>3022 rows × 2 columns</p>\n</div>"
     },
     "metadata": {},
     "execution_count": 107
    }
   ],
   "source": [
    "Renew_combined_df.columns = ['SP500','Renewable']\n",
    "Renew_combined_df"
   ]
  },
  {
   "cell_type": "code",
   "execution_count": 109,
   "metadata": {},
   "outputs": [
    {
     "output_type": "execute_result",
     "data": {
      "text/plain": [
       "                              SP500  Non_Renewable\n",
       "time                                              \n",
       "2008-08-07 00:00:00-04:00       NaN            NaN\n",
       "2008-08-08 00:00:00-04:00  0.021595      -0.008485\n",
       "2008-08-11 00:00:00-04:00  0.007946      -0.004209\n",
       "2008-08-12 00:00:00-04:00 -0.010716      -0.003381\n",
       "2008-08-13 00:00:00-04:00 -0.003327       0.035482\n",
       "...                             ...            ...\n",
       "2020-08-03 00:00:00-04:00  0.006768       0.003330\n",
       "2020-08-04 00:00:00-04:00  0.003863       0.024336\n",
       "2020-08-05 00:00:00-04:00  0.006151       0.010529\n",
       "2020-08-06 00:00:00-04:00  0.006776      -0.008015\n",
       "2020-08-07 00:00:00-04:00  0.000718       0.001347\n",
       "\n",
       "[3022 rows x 2 columns]"
      ],
      "text/html": "<div>\n<style scoped>\n    .dataframe tbody tr th:only-of-type {\n        vertical-align: middle;\n    }\n\n    .dataframe tbody tr th {\n        vertical-align: top;\n    }\n\n    .dataframe thead th {\n        text-align: right;\n    }\n</style>\n<table border=\"1\" class=\"dataframe\">\n  <thead>\n    <tr style=\"text-align: right;\">\n      <th></th>\n      <th>SP500</th>\n      <th>Non_Renewable</th>\n    </tr>\n    <tr>\n      <th>time</th>\n      <th></th>\n      <th></th>\n    </tr>\n  </thead>\n  <tbody>\n    <tr>\n      <th>2008-08-07 00:00:00-04:00</th>\n      <td>NaN</td>\n      <td>NaN</td>\n    </tr>\n    <tr>\n      <th>2008-08-08 00:00:00-04:00</th>\n      <td>0.021595</td>\n      <td>-0.008485</td>\n    </tr>\n    <tr>\n      <th>2008-08-11 00:00:00-04:00</th>\n      <td>0.007946</td>\n      <td>-0.004209</td>\n    </tr>\n    <tr>\n      <th>2008-08-12 00:00:00-04:00</th>\n      <td>-0.010716</td>\n      <td>-0.003381</td>\n    </tr>\n    <tr>\n      <th>2008-08-13 00:00:00-04:00</th>\n      <td>-0.003327</td>\n      <td>0.035482</td>\n    </tr>\n    <tr>\n      <th>...</th>\n      <td>...</td>\n      <td>...</td>\n    </tr>\n    <tr>\n      <th>2020-08-03 00:00:00-04:00</th>\n      <td>0.006768</td>\n      <td>0.003330</td>\n    </tr>\n    <tr>\n      <th>2020-08-04 00:00:00-04:00</th>\n      <td>0.003863</td>\n      <td>0.024336</td>\n    </tr>\n    <tr>\n      <th>2020-08-05 00:00:00-04:00</th>\n      <td>0.006151</td>\n      <td>0.010529</td>\n    </tr>\n    <tr>\n      <th>2020-08-06 00:00:00-04:00</th>\n      <td>0.006776</td>\n      <td>-0.008015</td>\n    </tr>\n    <tr>\n      <th>2020-08-07 00:00:00-04:00</th>\n      <td>0.000718</td>\n      <td>0.001347</td>\n    </tr>\n  </tbody>\n</table>\n<p>3022 rows × 2 columns</p>\n</div>"
     },
     "metadata": {},
     "execution_count": 109
    }
   ],
   "source": [
    "# Use the `pct_change` function to calculate daily returns of closing prices for each column\n",
    "Non_Renew_daily_returns = Non_Renew_combined_df.pct_change()\n",
    "Non_Renew_daily_returns"
   ]
  },
  {
   "cell_type": "code",
   "execution_count": 112,
   "metadata": {},
   "outputs": [
    {
     "output_type": "execute_result",
     "data": {
      "text/plain": [
       "                              SP500  Renewable\n",
       "time                                          \n",
       "2008-08-07 00:00:00-04:00       NaN        NaN\n",
       "2008-08-08 00:00:00-04:00  0.021595  -0.015277\n",
       "2008-08-11 00:00:00-04:00  0.007946  -0.015957\n",
       "2008-08-12 00:00:00-04:00 -0.010716   0.027477\n",
       "2008-08-13 00:00:00-04:00 -0.003327   0.009645\n",
       "...                             ...        ...\n",
       "2020-08-03 00:00:00-04:00  0.006768   0.019973\n",
       "2020-08-04 00:00:00-04:00  0.003863   0.067885\n",
       "2020-08-05 00:00:00-04:00  0.006151   0.033415\n",
       "2020-08-06 00:00:00-04:00  0.006776  -0.011041\n",
       "2020-08-07 00:00:00-04:00  0.000718   0.019936\n",
       "\n",
       "[3022 rows x 2 columns]"
      ],
      "text/html": "<div>\n<style scoped>\n    .dataframe tbody tr th:only-of-type {\n        vertical-align: middle;\n    }\n\n    .dataframe tbody tr th {\n        vertical-align: top;\n    }\n\n    .dataframe thead th {\n        text-align: right;\n    }\n</style>\n<table border=\"1\" class=\"dataframe\">\n  <thead>\n    <tr style=\"text-align: right;\">\n      <th></th>\n      <th>SP500</th>\n      <th>Renewable</th>\n    </tr>\n    <tr>\n      <th>time</th>\n      <th></th>\n      <th></th>\n    </tr>\n  </thead>\n  <tbody>\n    <tr>\n      <th>2008-08-07 00:00:00-04:00</th>\n      <td>NaN</td>\n      <td>NaN</td>\n    </tr>\n    <tr>\n      <th>2008-08-08 00:00:00-04:00</th>\n      <td>0.021595</td>\n      <td>-0.015277</td>\n    </tr>\n    <tr>\n      <th>2008-08-11 00:00:00-04:00</th>\n      <td>0.007946</td>\n      <td>-0.015957</td>\n    </tr>\n    <tr>\n      <th>2008-08-12 00:00:00-04:00</th>\n      <td>-0.010716</td>\n      <td>0.027477</td>\n    </tr>\n    <tr>\n      <th>2008-08-13 00:00:00-04:00</th>\n      <td>-0.003327</td>\n      <td>0.009645</td>\n    </tr>\n    <tr>\n      <th>...</th>\n      <td>...</td>\n      <td>...</td>\n    </tr>\n    <tr>\n      <th>2020-08-03 00:00:00-04:00</th>\n      <td>0.006768</td>\n      <td>0.019973</td>\n    </tr>\n    <tr>\n      <th>2020-08-04 00:00:00-04:00</th>\n      <td>0.003863</td>\n      <td>0.067885</td>\n    </tr>\n    <tr>\n      <th>2020-08-05 00:00:00-04:00</th>\n      <td>0.006151</td>\n      <td>0.033415</td>\n    </tr>\n    <tr>\n      <th>2020-08-06 00:00:00-04:00</th>\n      <td>0.006776</td>\n      <td>-0.011041</td>\n    </tr>\n    <tr>\n      <th>2020-08-07 00:00:00-04:00</th>\n      <td>0.000718</td>\n      <td>0.019936</td>\n    </tr>\n  </tbody>\n</table>\n<p>3022 rows × 2 columns</p>\n</div>"
     },
     "metadata": {},
     "execution_count": 112
    }
   ],
   "source": [
    "# Use the `pct_change` function to calculate daily returns of closing prices for each column\n",
    "Renew_daily_returns = Renew_combined_df.pct_change()\n",
    "Renew_daily_returns"
   ]
  },
  {
   "cell_type": "code",
   "execution_count": 130,
   "metadata": {},
   "outputs": [
    {
     "output_type": "execute_result",
     "data": {
      "text/plain": [
       "0.00039611780357001205"
      ]
     },
     "metadata": {},
     "execution_count": 130
    }
   ],
   "source": [
    "# Calculate covariance and variance of all daily returns of Non-Renewable vs. SP500\n",
    "Non_Renew_covariance = Non_Renew_daily_returns['Non_Renewable'].cov(Non_Renew_daily_returns['SP500'])\n",
    "Non_Renew_covariance\n",
    "Non_Renew_variance = Non_Renew_daily_returns['Non_Renewable'].var()\n",
    "Non_Renew_variance\n"
   ]
  },
  {
   "cell_type": "code",
   "execution_count": 133,
   "metadata": {},
   "outputs": [
    {
     "output_type": "execute_result",
     "data": {
      "text/plain": [
       "0.0008315986850638067"
      ]
     },
     "metadata": {},
     "execution_count": 133
    }
   ],
   "source": [
    "# Calculate covariance of all daily returns of MSFT vs. AAPL\n",
    "Renew_covariance = Renew_daily_returns['Renewable'].cov(Renew_daily_returns['SP500'])\n",
    "Renew_covariance\n",
    "Renew_variance = Renew_daily_returns['Renewable'].var()\n",
    "Renew_variance"
   ]
  },
  {
   "cell_type": "code",
   "execution_count": null,
   "metadata": {},
   "outputs": [],
   "source": []
  }
 ]
}