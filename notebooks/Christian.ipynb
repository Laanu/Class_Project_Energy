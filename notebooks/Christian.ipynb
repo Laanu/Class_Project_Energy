{
 "metadata": {
  "language_info": {
   "codemirror_mode": {
    "name": "ipython",
    "version": 3
   },
   "file_extension": ".py",
   "mimetype": "text/x-python",
   "name": "python",
   "nbconvert_exporter": "python",
   "pygments_lexer": "ipython3",
   "version": "3.7.7-final"
  },
  "orig_nbformat": 2,
  "kernelspec": {
   "name": "Python 3.7.7 64-bit",
   "display_name": "Python 3.7.7 64-bit",
   "metadata": {
    "interpreter": {
     "hash": "4c754cfb6133d0f5dd36241ee0e0459d57307058cb627744089646b0ca14559d"
    }
   }
  }
 },
 "nbformat": 4,
 "nbformat_minor": 2,
 "cells": [
  {
   "cell_type": "code",
   "execution_count": 19,
   "metadata": {},
   "outputs": [],
   "source": [
    "import pandas as pd\n",
    "import numpy as np\n",
    "from pathlib import Path\n",
    "%matplotlib inline"
   ]
  },
  {
   "cell_type": "code",
   "execution_count": 20,
   "metadata": {},
   "outputs": [
    {
     "output_type": "execute_result",
     "data": {
      "text/plain": [
       "      Hydropower quads  Biomass quads  Other Renewable Energy quads\n",
       "Year                                                               \n",
       "2050          2.262525       5.535339                     12.642707\n",
       "2049          2.273778       5.506855                     12.415702\n",
       "2048          2.279950       5.475977                     12.214866\n",
       "2047          2.281751       5.447560                     12.039868\n",
       "2046          2.273704       5.414016                     11.799397"
      ],
      "text/html": "<div>\n<style scoped>\n    .dataframe tbody tr th:only-of-type {\n        vertical-align: middle;\n    }\n\n    .dataframe tbody tr th {\n        vertical-align: top;\n    }\n\n    .dataframe thead th {\n        text-align: right;\n    }\n</style>\n<table border=\"1\" class=\"dataframe\">\n  <thead>\n    <tr style=\"text-align: right;\">\n      <th></th>\n      <th>Hydropower quads</th>\n      <th>Biomass quads</th>\n      <th>Other Renewable Energy quads</th>\n    </tr>\n    <tr>\n      <th>Year</th>\n      <th></th>\n      <th></th>\n      <th></th>\n    </tr>\n  </thead>\n  <tbody>\n    <tr>\n      <th>2050</th>\n      <td>2.262525</td>\n      <td>5.535339</td>\n      <td>12.642707</td>\n    </tr>\n    <tr>\n      <th>2049</th>\n      <td>2.273778</td>\n      <td>5.506855</td>\n      <td>12.415702</td>\n    </tr>\n    <tr>\n      <th>2048</th>\n      <td>2.279950</td>\n      <td>5.475977</td>\n      <td>12.214866</td>\n    </tr>\n    <tr>\n      <th>2047</th>\n      <td>2.281751</td>\n      <td>5.447560</td>\n      <td>12.039868</td>\n    </tr>\n    <tr>\n      <th>2046</th>\n      <td>2.273704</td>\n      <td>5.414016</td>\n      <td>11.799397</td>\n    </tr>\n  </tbody>\n</table>\n</div>"
     },
     "metadata": {},
     "execution_count": 20
    }
   ],
   "source": [
    "# Set file path for Renewable Energy Production\n",
    "production_data = Path(\"../data/Total_Energy_Production.csv\")\n",
    "\n",
    "# Read CSV as a DataFrame\n",
    "renewable_production_data = pd.read_csv(production_data, index_col=\"Year\")\n",
    "\n",
    "renewable_production = renewable_production_data.loc[:, ['Hydropower quads', 'Biomass quads', 'Other Renewable Energy quads']]\n",
    "renewable_production.head(5)"
   ]
  },
  {
   "cell_type": "code",
   "execution_count": 44,
   "metadata": {},
   "outputs": [
    {
     "output_type": "execute_result",
     "data": {
      "text/plain": [
       "      Crude Oil and Lease Condensate quads  Natural Gas Plant Liquids quads  \\\n",
       "Year                                                                          \n",
       "2050                             24.796230                         8.190884   \n",
       "2049                             25.881308                         8.390840   \n",
       "2048                             26.494122                         8.449029   \n",
       "2047                             27.029858                         8.443357   \n",
       "2046                             27.620865                         8.467919   \n",
       "\n",
       "      Dry Natural Gas quads  Coal quads  Nuclear quads  Hydropower quads  \\\n",
       "Year                                                                       \n",
       "2050              46.616814   10.675206       6.716295          2.262525   \n",
       "2049              46.380791   10.649560       6.711448          2.273778   \n",
       "2048              46.018311   10.674273       6.708094          2.279950   \n",
       "2047              45.565365   10.683536       6.705318          2.281751   \n",
       "2046              45.196522   10.700363       6.700862          2.273704   \n",
       "\n",
       "      Biomass quads  Other Renewable Energy quads  Other quads  Total quads  \n",
       "Year                                                                         \n",
       "2050       5.535339                     12.642707     0.771613   118.207619  \n",
       "2049       5.506855                     12.415702     0.771784   118.982063  \n",
       "2048       5.475977                     12.214866     0.763026   119.077637  \n",
       "2047       5.447560                     12.039868     0.752588   118.949188  \n",
       "2046       5.414016                     11.799397     0.732407   118.906059  "
      ],
      "text/html": "<div>\n<style scoped>\n    .dataframe tbody tr th:only-of-type {\n        vertical-align: middle;\n    }\n\n    .dataframe tbody tr th {\n        vertical-align: top;\n    }\n\n    .dataframe thead th {\n        text-align: right;\n    }\n</style>\n<table border=\"1\" class=\"dataframe\">\n  <thead>\n    <tr style=\"text-align: right;\">\n      <th></th>\n      <th>Crude Oil and Lease Condensate quads</th>\n      <th>Natural Gas Plant Liquids quads</th>\n      <th>Dry Natural Gas quads</th>\n      <th>Coal quads</th>\n      <th>Nuclear quads</th>\n      <th>Hydropower quads</th>\n      <th>Biomass quads</th>\n      <th>Other Renewable Energy quads</th>\n      <th>Other quads</th>\n      <th>Total quads</th>\n    </tr>\n    <tr>\n      <th>Year</th>\n      <th></th>\n      <th></th>\n      <th></th>\n      <th></th>\n      <th></th>\n      <th></th>\n      <th></th>\n      <th></th>\n      <th></th>\n      <th></th>\n    </tr>\n  </thead>\n  <tbody>\n    <tr>\n      <th>2050</th>\n      <td>24.796230</td>\n      <td>8.190884</td>\n      <td>46.616814</td>\n      <td>10.675206</td>\n      <td>6.716295</td>\n      <td>2.262525</td>\n      <td>5.535339</td>\n      <td>12.642707</td>\n      <td>0.771613</td>\n      <td>118.207619</td>\n    </tr>\n    <tr>\n      <th>2049</th>\n      <td>25.881308</td>\n      <td>8.390840</td>\n      <td>46.380791</td>\n      <td>10.649560</td>\n      <td>6.711448</td>\n      <td>2.273778</td>\n      <td>5.506855</td>\n      <td>12.415702</td>\n      <td>0.771784</td>\n      <td>118.982063</td>\n    </tr>\n    <tr>\n      <th>2048</th>\n      <td>26.494122</td>\n      <td>8.449029</td>\n      <td>46.018311</td>\n      <td>10.674273</td>\n      <td>6.708094</td>\n      <td>2.279950</td>\n      <td>5.475977</td>\n      <td>12.214866</td>\n      <td>0.763026</td>\n      <td>119.077637</td>\n    </tr>\n    <tr>\n      <th>2047</th>\n      <td>27.029858</td>\n      <td>8.443357</td>\n      <td>45.565365</td>\n      <td>10.683536</td>\n      <td>6.705318</td>\n      <td>2.281751</td>\n      <td>5.447560</td>\n      <td>12.039868</td>\n      <td>0.752588</td>\n      <td>118.949188</td>\n    </tr>\n    <tr>\n      <th>2046</th>\n      <td>27.620865</td>\n      <td>8.467919</td>\n      <td>45.196522</td>\n      <td>10.700363</td>\n      <td>6.700862</td>\n      <td>2.273704</td>\n      <td>5.414016</td>\n      <td>11.799397</td>\n      <td>0.732407</td>\n      <td>118.906059</td>\n    </tr>\n  </tbody>\n</table>\n</div>"
     },
     "metadata": {},
     "execution_count": 44
    }
   ],
   "source": [
    "renewable_production_data.head()"
   ]
  },
  {
   "cell_type": "code",
   "execution_count": 45,
   "metadata": {},
   "outputs": [
    {
     "output_type": "execute_result",
     "data": {
      "text/plain": [
       "      Crude Oil and Lease Condensate quads  Natural Gas Plant Liquids quads  \\\n",
       "Year                                                                          \n",
       "2050                             24.796230                         8.190884   \n",
       "2049                             25.881308                         8.390840   \n",
       "2048                             26.494122                         8.449029   \n",
       "2047                             27.029858                         8.443357   \n",
       "2046                             27.620865                         8.467919   \n",
       "\n",
       "      Dry Natural Gas quads  Coal quads  Nuclear quads  Other quads  \n",
       "Year                                                                 \n",
       "2050              46.616814   10.675206       6.716295     0.771613  \n",
       "2049              46.380791   10.649560       6.711448     0.771784  \n",
       "2048              46.018311   10.674273       6.708094     0.763026  \n",
       "2047              45.565365   10.683536       6.705318     0.752588  \n",
       "2046              45.196522   10.700363       6.700862     0.732407  "
      ],
      "text/html": "<div>\n<style scoped>\n    .dataframe tbody tr th:only-of-type {\n        vertical-align: middle;\n    }\n\n    .dataframe tbody tr th {\n        vertical-align: top;\n    }\n\n    .dataframe thead th {\n        text-align: right;\n    }\n</style>\n<table border=\"1\" class=\"dataframe\">\n  <thead>\n    <tr style=\"text-align: right;\">\n      <th></th>\n      <th>Crude Oil and Lease Condensate quads</th>\n      <th>Natural Gas Plant Liquids quads</th>\n      <th>Dry Natural Gas quads</th>\n      <th>Coal quads</th>\n      <th>Nuclear quads</th>\n      <th>Other quads</th>\n    </tr>\n    <tr>\n      <th>Year</th>\n      <th></th>\n      <th></th>\n      <th></th>\n      <th></th>\n      <th></th>\n      <th></th>\n    </tr>\n  </thead>\n  <tbody>\n    <tr>\n      <th>2050</th>\n      <td>24.796230</td>\n      <td>8.190884</td>\n      <td>46.616814</td>\n      <td>10.675206</td>\n      <td>6.716295</td>\n      <td>0.771613</td>\n    </tr>\n    <tr>\n      <th>2049</th>\n      <td>25.881308</td>\n      <td>8.390840</td>\n      <td>46.380791</td>\n      <td>10.649560</td>\n      <td>6.711448</td>\n      <td>0.771784</td>\n    </tr>\n    <tr>\n      <th>2048</th>\n      <td>26.494122</td>\n      <td>8.449029</td>\n      <td>46.018311</td>\n      <td>10.674273</td>\n      <td>6.708094</td>\n      <td>0.763026</td>\n    </tr>\n    <tr>\n      <th>2047</th>\n      <td>27.029858</td>\n      <td>8.443357</td>\n      <td>45.565365</td>\n      <td>10.683536</td>\n      <td>6.705318</td>\n      <td>0.752588</td>\n    </tr>\n    <tr>\n      <th>2046</th>\n      <td>27.620865</td>\n      <td>8.467919</td>\n      <td>45.196522</td>\n      <td>10.700363</td>\n      <td>6.700862</td>\n      <td>0.732407</td>\n    </tr>\n  </tbody>\n</table>\n</div>"
     },
     "metadata": {},
     "execution_count": 45
    }
   ],
   "source": [
    "# Non-renewable Energy Production\n",
    "nonrenewable_production = renewable_production_data.loc[:, ['Crude Oil and Lease Condensate quads', 'Natural Gas Plant Liquids quads', 'Dry Natural Gas quads', 'Coal quads','Nuclear quads', 'Other quads']]\n",
    "nonrenewable_production.head(5)"
   ]
  },
  {
   "cell_type": "code",
   "execution_count": 21,
   "metadata": {},
   "outputs": [
    {
     "output_type": "execute_result",
     "data": {
      "text/plain": [
       "      Hydropower quads  Biomass quads  Other Renewable Energy quads\n",
       "Year                                                               \n",
       "2050          2.262525       3.593170                     12.642707\n",
       "2049          2.273778       3.570926                     12.415702\n",
       "2048          2.279950       3.546339                     12.214866\n",
       "2047          2.281751       3.524088                     12.039868\n",
       "2046          2.273704       3.496759                     11.799397"
      ],
      "text/html": "<div>\n<style scoped>\n    .dataframe tbody tr th:only-of-type {\n        vertical-align: middle;\n    }\n\n    .dataframe tbody tr th {\n        vertical-align: top;\n    }\n\n    .dataframe thead th {\n        text-align: right;\n    }\n</style>\n<table border=\"1\" class=\"dataframe\">\n  <thead>\n    <tr style=\"text-align: right;\">\n      <th></th>\n      <th>Hydropower quads</th>\n      <th>Biomass quads</th>\n      <th>Other Renewable Energy quads</th>\n    </tr>\n    <tr>\n      <th>Year</th>\n      <th></th>\n      <th></th>\n      <th></th>\n    </tr>\n  </thead>\n  <tbody>\n    <tr>\n      <th>2050</th>\n      <td>2.262525</td>\n      <td>3.593170</td>\n      <td>12.642707</td>\n    </tr>\n    <tr>\n      <th>2049</th>\n      <td>2.273778</td>\n      <td>3.570926</td>\n      <td>12.415702</td>\n    </tr>\n    <tr>\n      <th>2048</th>\n      <td>2.279950</td>\n      <td>3.546339</td>\n      <td>12.214866</td>\n    </tr>\n    <tr>\n      <th>2047</th>\n      <td>2.281751</td>\n      <td>3.524088</td>\n      <td>12.039868</td>\n    </tr>\n    <tr>\n      <th>2046</th>\n      <td>2.273704</td>\n      <td>3.496759</td>\n      <td>11.799397</td>\n    </tr>\n  </tbody>\n</table>\n</div>"
     },
     "metadata": {},
     "execution_count": 21
    }
   ],
   "source": [
    "# Set file path for Renewable Energy Consumption\n",
    "consumption_data = Path(\"../data/Total_Energy_Use.csv\")\n",
    "\n",
    "# Read CSV as a DataFrame\n",
    "renewable_consumption_data = pd.read_csv(consumption_data, index_col=\"Year\")\n",
    "\n",
    "renewable_consumption = renewable_consumption_data.loc[:, ['Hydropower quads', 'Biomass quads', 'Other Renewable Energy quads']]\n",
    "renewable_consumption.head(5)"
   ]
  },
  {
   "cell_type": "code",
   "execution_count": 46,
   "metadata": {},
   "outputs": [
    {
     "output_type": "execute_result",
     "data": {
      "text/plain": [
       "      Crude Oil and Lease Condensate quads  Natural Gas Plant Liquids quads  \\\n",
       "Year                                                                          \n",
       "2050                             24.796230                         8.190884   \n",
       "2049                             25.881308                         8.390840   \n",
       "2048                             26.494122                         8.449029   \n",
       "2047                             27.029858                         8.443357   \n",
       "2046                             27.620865                         8.467919   \n",
       "\n",
       "      Dry Natural Gas quads  Coal quads  Nuclear quads  Other quads  \n",
       "Year                                                                 \n",
       "2050              46.616814   10.675206       6.716295     0.771613  \n",
       "2049              46.380791   10.649560       6.711448     0.771784  \n",
       "2048              46.018311   10.674273       6.708094     0.763026  \n",
       "2047              45.565365   10.683536       6.705318     0.752588  \n",
       "2046              45.196522   10.700363       6.700862     0.732407  "
      ],
      "text/html": "<div>\n<style scoped>\n    .dataframe tbody tr th:only-of-type {\n        vertical-align: middle;\n    }\n\n    .dataframe tbody tr th {\n        vertical-align: top;\n    }\n\n    .dataframe thead th {\n        text-align: right;\n    }\n</style>\n<table border=\"1\" class=\"dataframe\">\n  <thead>\n    <tr style=\"text-align: right;\">\n      <th></th>\n      <th>Crude Oil and Lease Condensate quads</th>\n      <th>Natural Gas Plant Liquids quads</th>\n      <th>Dry Natural Gas quads</th>\n      <th>Coal quads</th>\n      <th>Nuclear quads</th>\n      <th>Other quads</th>\n    </tr>\n    <tr>\n      <th>Year</th>\n      <th></th>\n      <th></th>\n      <th></th>\n      <th></th>\n      <th></th>\n      <th></th>\n    </tr>\n  </thead>\n  <tbody>\n    <tr>\n      <th>2050</th>\n      <td>24.796230</td>\n      <td>8.190884</td>\n      <td>46.616814</td>\n      <td>10.675206</td>\n      <td>6.716295</td>\n      <td>0.771613</td>\n    </tr>\n    <tr>\n      <th>2049</th>\n      <td>25.881308</td>\n      <td>8.390840</td>\n      <td>46.380791</td>\n      <td>10.649560</td>\n      <td>6.711448</td>\n      <td>0.771784</td>\n    </tr>\n    <tr>\n      <th>2048</th>\n      <td>26.494122</td>\n      <td>8.449029</td>\n      <td>46.018311</td>\n      <td>10.674273</td>\n      <td>6.708094</td>\n      <td>0.763026</td>\n    </tr>\n    <tr>\n      <th>2047</th>\n      <td>27.029858</td>\n      <td>8.443357</td>\n      <td>45.565365</td>\n      <td>10.683536</td>\n      <td>6.705318</td>\n      <td>0.752588</td>\n    </tr>\n    <tr>\n      <th>2046</th>\n      <td>27.620865</td>\n      <td>8.467919</td>\n      <td>45.196522</td>\n      <td>10.700363</td>\n      <td>6.700862</td>\n      <td>0.732407</td>\n    </tr>\n  </tbody>\n</table>\n</div>"
     },
     "metadata": {},
     "execution_count": 46
    }
   ],
   "source": [
    "# Non-renewable Energy Consumption\n",
    "nonrenewable_consumption = renewable_production_data.loc[:, ['Crude Oil and Lease Condensate quads', 'Natural Gas Plant Liquids quads', 'Dry Natural Gas quads', 'Coal quads', 'Nuclear quads','Other quads']]\n",
    "nonrenewable_consumption.head(5)"
   ]
  },
  {
   "cell_type": "code",
   "execution_count": 47,
   "metadata": {},
   "outputs": [
    {
     "output_type": "execute_result",
     "data": {
      "text/plain": [
       "      Brent (nom $/b) nom $/b  West Texas Intermediate (nom $/b) nom $/b  \\\n",
       "Year                                                                       \n",
       "2050               214.277344                                 205.581665   \n",
       "2049               206.792648                                 198.653381   \n",
       "2048               198.939514                                 190.964218   \n",
       "2047               191.102951                                 182.914185   \n",
       "2046               183.427155                                 174.213318   \n",
       "2045               176.887756                                 168.907990   \n",
       "2044               170.231277                                 161.561188   \n",
       "2043               163.915482                                 155.669418   \n",
       "2042               158.226028                                 150.320374   \n",
       "2041               151.260971                                 143.188431   \n",
       "\n",
       "      Gas Price at Henry Hub (nom $/MMBtu) nom $/MMBtu  \\\n",
       "Year                                                     \n",
       "2050                                          7.539873   \n",
       "2049                                          7.266372   \n",
       "2048                                          7.051677   \n",
       "2047                                          6.823333   \n",
       "2046                                          6.579929   \n",
       "2045                                          6.364482   \n",
       "2044                                          6.179199   \n",
       "2043                                          6.015227   \n",
       "2042                                          5.851842   \n",
       "2041                                          5.683333   \n",
       "\n",
       "      Coal at Minemouth (nom $/ton) nom $/ton  \\\n",
       "Year                                            \n",
       "2050                                77.163956   \n",
       "2049                                75.155357   \n",
       "2048                                73.135712   \n",
       "2047                                71.197189   \n",
       "2046                                69.313484   \n",
       "2045                                67.846008   \n",
       "2044                                65.694534   \n",
       "2043                                64.050179   \n",
       "2042                                62.385551   \n",
       "2041                                60.710873   \n",
       "\n",
       "      Coal Minemouth (nom $/MMBtu) nom $/MMBtu  \\\n",
       "Year                                             \n",
       "2050                                  3.645000   \n",
       "2049                                  3.549152   \n",
       "2048                                  3.452890   \n",
       "2047                                  3.359361   \n",
       "2046                                  3.268590   \n",
       "2045                                  3.191967   \n",
       "2044                                  3.096194   \n",
       "2043                                  3.017857   \n",
       "2042                                  2.940814   \n",
       "2041                                  2.863649   \n",
       "\n",
       "      Delivered Coal (nom $/MMBtu) nom $/MMBtu  \\\n",
       "Year                                             \n",
       "2050                                  4.360555   \n",
       "2049                                  4.254279   \n",
       "2048                                  4.149487   \n",
       "2047                                  4.045896   \n",
       "2046                                  3.942903   \n",
       "2045                                  3.854206   \n",
       "2044                                  3.755188   \n",
       "2043                                  3.665249   \n",
       "2042                                  3.575610   \n",
       "2041                                  3.486681   \n",
       "\n",
       "      Electricity (nom cents/kWh) nom cents/kWh  \n",
       "Year                                             \n",
       "2050                                  20.212610  \n",
       "2049                                  19.787699  \n",
       "2048                                  19.395720  \n",
       "2047                                  18.978594  \n",
       "2046                                  18.526518  \n",
       "2045                                  18.149460  \n",
       "2044                                  17.768002  \n",
       "2043                                  17.370457  \n",
       "2042                                  17.034168  \n",
       "2041                                  16.694515  "
      ],
      "text/html": "<div>\n<style scoped>\n    .dataframe tbody tr th:only-of-type {\n        vertical-align: middle;\n    }\n\n    .dataframe tbody tr th {\n        vertical-align: top;\n    }\n\n    .dataframe thead th {\n        text-align: right;\n    }\n</style>\n<table border=\"1\" class=\"dataframe\">\n  <thead>\n    <tr style=\"text-align: right;\">\n      <th></th>\n      <th>Brent (nom $/b) nom $/b</th>\n      <th>West Texas Intermediate (nom $/b) nom $/b</th>\n      <th>Gas Price at Henry Hub (nom $/MMBtu) nom $/MMBtu</th>\n      <th>Coal at Minemouth (nom $/ton) nom $/ton</th>\n      <th>Coal Minemouth (nom $/MMBtu) nom $/MMBtu</th>\n      <th>Delivered Coal (nom $/MMBtu) nom $/MMBtu</th>\n      <th>Electricity (nom cents/kWh) nom cents/kWh</th>\n    </tr>\n    <tr>\n      <th>Year</th>\n      <th></th>\n      <th></th>\n      <th></th>\n      <th></th>\n      <th></th>\n      <th></th>\n      <th></th>\n    </tr>\n  </thead>\n  <tbody>\n    <tr>\n      <th>2050</th>\n      <td>214.277344</td>\n      <td>205.581665</td>\n      <td>7.539873</td>\n      <td>77.163956</td>\n      <td>3.645000</td>\n      <td>4.360555</td>\n      <td>20.212610</td>\n    </tr>\n    <tr>\n      <th>2049</th>\n      <td>206.792648</td>\n      <td>198.653381</td>\n      <td>7.266372</td>\n      <td>75.155357</td>\n      <td>3.549152</td>\n      <td>4.254279</td>\n      <td>19.787699</td>\n    </tr>\n    <tr>\n      <th>2048</th>\n      <td>198.939514</td>\n      <td>190.964218</td>\n      <td>7.051677</td>\n      <td>73.135712</td>\n      <td>3.452890</td>\n      <td>4.149487</td>\n      <td>19.395720</td>\n    </tr>\n    <tr>\n      <th>2047</th>\n      <td>191.102951</td>\n      <td>182.914185</td>\n      <td>6.823333</td>\n      <td>71.197189</td>\n      <td>3.359361</td>\n      <td>4.045896</td>\n      <td>18.978594</td>\n    </tr>\n    <tr>\n      <th>2046</th>\n      <td>183.427155</td>\n      <td>174.213318</td>\n      <td>6.579929</td>\n      <td>69.313484</td>\n      <td>3.268590</td>\n      <td>3.942903</td>\n      <td>18.526518</td>\n    </tr>\n    <tr>\n      <th>2045</th>\n      <td>176.887756</td>\n      <td>168.907990</td>\n      <td>6.364482</td>\n      <td>67.846008</td>\n      <td>3.191967</td>\n      <td>3.854206</td>\n      <td>18.149460</td>\n    </tr>\n    <tr>\n      <th>2044</th>\n      <td>170.231277</td>\n      <td>161.561188</td>\n      <td>6.179199</td>\n      <td>65.694534</td>\n      <td>3.096194</td>\n      <td>3.755188</td>\n      <td>17.768002</td>\n    </tr>\n    <tr>\n      <th>2043</th>\n      <td>163.915482</td>\n      <td>155.669418</td>\n      <td>6.015227</td>\n      <td>64.050179</td>\n      <td>3.017857</td>\n      <td>3.665249</td>\n      <td>17.370457</td>\n    </tr>\n    <tr>\n      <th>2042</th>\n      <td>158.226028</td>\n      <td>150.320374</td>\n      <td>5.851842</td>\n      <td>62.385551</td>\n      <td>2.940814</td>\n      <td>3.575610</td>\n      <td>17.034168</td>\n    </tr>\n    <tr>\n      <th>2041</th>\n      <td>151.260971</td>\n      <td>143.188431</td>\n      <td>5.683333</td>\n      <td>60.710873</td>\n      <td>2.863649</td>\n      <td>3.486681</td>\n      <td>16.694515</td>\n    </tr>\n  </tbody>\n</table>\n</div>"
     },
     "metadata": {},
     "execution_count": 47
    }
   ],
   "source": [
    "# Set file path for Total Energy Nominal Prices \n",
    "nominal_price_data = Path(\"../data/Total_Energy_Nominal_Prices.csv\")\n",
    "\n",
    "# Read CSV as a DataFrame\n",
    "energy_price = pd.read_csv(nominal_price_data, index_col=\"Year\")\n",
    "energy_price.head(10)"
   ]
  },
  {
   "cell_type": "code",
   "execution_count": 48,
   "metadata": {},
   "outputs": [
    {
     "output_type": "execute_result",
     "data": {
      "text/plain": [
       "      Hydropower quads  Biomass quads  Other Renewable Energy quads  \\\n",
       "Year                                                                  \n",
       "2050          2.262525       5.535339                     12.642707   \n",
       "2049          2.273778       5.506855                     12.415702   \n",
       "2048          2.279950       5.475977                     12.214866   \n",
       "2047          2.281751       5.447560                     12.039868   \n",
       "2046          2.273704       5.414016                     11.799397   \n",
       "2045          2.272747       5.388065                     11.526014   \n",
       "2044          2.281344       5.360538                     11.121703   \n",
       "2043          2.284775       5.335333                     10.760035   \n",
       "2042          2.284055       5.310064                     10.417507   \n",
       "2041          2.298737       5.290954                     10.118544   \n",
       "\n",
       "      Brent (nom $/b) nom $/b  West Texas Intermediate (nom $/b) nom $/b  \\\n",
       "Year                                                                       \n",
       "2050               214.277344                                 205.581665   \n",
       "2049               206.792648                                 198.653381   \n",
       "2048               198.939514                                 190.964218   \n",
       "2047               191.102951                                 182.914185   \n",
       "2046               183.427155                                 174.213318   \n",
       "2045               176.887756                                 168.907990   \n",
       "2044               170.231277                                 161.561188   \n",
       "2043               163.915482                                 155.669418   \n",
       "2042               158.226028                                 150.320374   \n",
       "2041               151.260971                                 143.188431   \n",
       "\n",
       "      Gas Price at Henry Hub (nom $/MMBtu) nom $/MMBtu  \\\n",
       "Year                                                     \n",
       "2050                                          7.539873   \n",
       "2049                                          7.266372   \n",
       "2048                                          7.051677   \n",
       "2047                                          6.823333   \n",
       "2046                                          6.579929   \n",
       "2045                                          6.364482   \n",
       "2044                                          6.179199   \n",
       "2043                                          6.015227   \n",
       "2042                                          5.851842   \n",
       "2041                                          5.683333   \n",
       "\n",
       "      Coal at Minemouth (nom $/ton) nom $/ton  \\\n",
       "Year                                            \n",
       "2050                                77.163956   \n",
       "2049                                75.155357   \n",
       "2048                                73.135712   \n",
       "2047                                71.197189   \n",
       "2046                                69.313484   \n",
       "2045                                67.846008   \n",
       "2044                                65.694534   \n",
       "2043                                64.050179   \n",
       "2042                                62.385551   \n",
       "2041                                60.710873   \n",
       "\n",
       "      Coal Minemouth (nom $/MMBtu) nom $/MMBtu  \\\n",
       "Year                                             \n",
       "2050                                  3.645000   \n",
       "2049                                  3.549152   \n",
       "2048                                  3.452890   \n",
       "2047                                  3.359361   \n",
       "2046                                  3.268590   \n",
       "2045                                  3.191967   \n",
       "2044                                  3.096194   \n",
       "2043                                  3.017857   \n",
       "2042                                  2.940814   \n",
       "2041                                  2.863649   \n",
       "\n",
       "      Delivered Coal (nom $/MMBtu) nom $/MMBtu  \\\n",
       "Year                                             \n",
       "2050                                  4.360555   \n",
       "2049                                  4.254279   \n",
       "2048                                  4.149487   \n",
       "2047                                  4.045896   \n",
       "2046                                  3.942903   \n",
       "2045                                  3.854206   \n",
       "2044                                  3.755188   \n",
       "2043                                  3.665249   \n",
       "2042                                  3.575610   \n",
       "2041                                  3.486681   \n",
       "\n",
       "      Electricity (nom cents/kWh) nom cents/kWh  \n",
       "Year                                             \n",
       "2050                                  20.212610  \n",
       "2049                                  19.787699  \n",
       "2048                                  19.395720  \n",
       "2047                                  18.978594  \n",
       "2046                                  18.526518  \n",
       "2045                                  18.149460  \n",
       "2044                                  17.768002  \n",
       "2043                                  17.370457  \n",
       "2042                                  17.034168  \n",
       "2041                                  16.694515  "
      ],
      "text/html": "<div>\n<style scoped>\n    .dataframe tbody tr th:only-of-type {\n        vertical-align: middle;\n    }\n\n    .dataframe tbody tr th {\n        vertical-align: top;\n    }\n\n    .dataframe thead th {\n        text-align: right;\n    }\n</style>\n<table border=\"1\" class=\"dataframe\">\n  <thead>\n    <tr style=\"text-align: right;\">\n      <th></th>\n      <th>Hydropower quads</th>\n      <th>Biomass quads</th>\n      <th>Other Renewable Energy quads</th>\n      <th>Brent (nom $/b) nom $/b</th>\n      <th>West Texas Intermediate (nom $/b) nom $/b</th>\n      <th>Gas Price at Henry Hub (nom $/MMBtu) nom $/MMBtu</th>\n      <th>Coal at Minemouth (nom $/ton) nom $/ton</th>\n      <th>Coal Minemouth (nom $/MMBtu) nom $/MMBtu</th>\n      <th>Delivered Coal (nom $/MMBtu) nom $/MMBtu</th>\n      <th>Electricity (nom cents/kWh) nom cents/kWh</th>\n    </tr>\n    <tr>\n      <th>Year</th>\n      <th></th>\n      <th></th>\n      <th></th>\n      <th></th>\n      <th></th>\n      <th></th>\n      <th></th>\n      <th></th>\n      <th></th>\n      <th></th>\n    </tr>\n  </thead>\n  <tbody>\n    <tr>\n      <th>2050</th>\n      <td>2.262525</td>\n      <td>5.535339</td>\n      <td>12.642707</td>\n      <td>214.277344</td>\n      <td>205.581665</td>\n      <td>7.539873</td>\n      <td>77.163956</td>\n      <td>3.645000</td>\n      <td>4.360555</td>\n      <td>20.212610</td>\n    </tr>\n    <tr>\n      <th>2049</th>\n      <td>2.273778</td>\n      <td>5.506855</td>\n      <td>12.415702</td>\n      <td>206.792648</td>\n      <td>198.653381</td>\n      <td>7.266372</td>\n      <td>75.155357</td>\n      <td>3.549152</td>\n      <td>4.254279</td>\n      <td>19.787699</td>\n    </tr>\n    <tr>\n      <th>2048</th>\n      <td>2.279950</td>\n      <td>5.475977</td>\n      <td>12.214866</td>\n      <td>198.939514</td>\n      <td>190.964218</td>\n      <td>7.051677</td>\n      <td>73.135712</td>\n      <td>3.452890</td>\n      <td>4.149487</td>\n      <td>19.395720</td>\n    </tr>\n    <tr>\n      <th>2047</th>\n      <td>2.281751</td>\n      <td>5.447560</td>\n      <td>12.039868</td>\n      <td>191.102951</td>\n      <td>182.914185</td>\n      <td>6.823333</td>\n      <td>71.197189</td>\n      <td>3.359361</td>\n      <td>4.045896</td>\n      <td>18.978594</td>\n    </tr>\n    <tr>\n      <th>2046</th>\n      <td>2.273704</td>\n      <td>5.414016</td>\n      <td>11.799397</td>\n      <td>183.427155</td>\n      <td>174.213318</td>\n      <td>6.579929</td>\n      <td>69.313484</td>\n      <td>3.268590</td>\n      <td>3.942903</td>\n      <td>18.526518</td>\n    </tr>\n    <tr>\n      <th>2045</th>\n      <td>2.272747</td>\n      <td>5.388065</td>\n      <td>11.526014</td>\n      <td>176.887756</td>\n      <td>168.907990</td>\n      <td>6.364482</td>\n      <td>67.846008</td>\n      <td>3.191967</td>\n      <td>3.854206</td>\n      <td>18.149460</td>\n    </tr>\n    <tr>\n      <th>2044</th>\n      <td>2.281344</td>\n      <td>5.360538</td>\n      <td>11.121703</td>\n      <td>170.231277</td>\n      <td>161.561188</td>\n      <td>6.179199</td>\n      <td>65.694534</td>\n      <td>3.096194</td>\n      <td>3.755188</td>\n      <td>17.768002</td>\n    </tr>\n    <tr>\n      <th>2043</th>\n      <td>2.284775</td>\n      <td>5.335333</td>\n      <td>10.760035</td>\n      <td>163.915482</td>\n      <td>155.669418</td>\n      <td>6.015227</td>\n      <td>64.050179</td>\n      <td>3.017857</td>\n      <td>3.665249</td>\n      <td>17.370457</td>\n    </tr>\n    <tr>\n      <th>2042</th>\n      <td>2.284055</td>\n      <td>5.310064</td>\n      <td>10.417507</td>\n      <td>158.226028</td>\n      <td>150.320374</td>\n      <td>5.851842</td>\n      <td>62.385551</td>\n      <td>2.940814</td>\n      <td>3.575610</td>\n      <td>17.034168</td>\n    </tr>\n    <tr>\n      <th>2041</th>\n      <td>2.298737</td>\n      <td>5.290954</td>\n      <td>10.118544</td>\n      <td>151.260971</td>\n      <td>143.188431</td>\n      <td>5.683333</td>\n      <td>60.710873</td>\n      <td>2.863649</td>\n      <td>3.486681</td>\n      <td>16.694515</td>\n    </tr>\n  </tbody>\n</table>\n</div>"
     },
     "metadata": {},
     "execution_count": 48
    }
   ],
   "source": [
    "# Combine Total Energy Production and Nominal price data\n",
    "renewable_production_price_df = pd.concat([renewable_production, energy_price], axis=\"columns\", join=\"inner\")\n",
    "renewable_production_price_df.head(10)"
   ]
  },
  {
   "cell_type": "code",
   "execution_count": 49,
   "metadata": {},
   "outputs": [
    {
     "output_type": "execute_result",
     "data": {
      "text/plain": [
       "      Hydropower quads  Biomass quads  Other Renewable Energy quads  \\\n",
       "Year                                                                  \n",
       "2050          2.262525       3.593170                     12.642707   \n",
       "2049          2.273778       3.570926                     12.415702   \n",
       "2048          2.279950       3.546339                     12.214866   \n",
       "2047          2.281751       3.524088                     12.039868   \n",
       "2046          2.273704       3.496759                     11.799397   \n",
       "2045          2.272747       3.476807                     11.526014   \n",
       "2044          2.281344       3.456382                     11.121703   \n",
       "2043          2.284775       3.438693                     10.760035   \n",
       "2042          2.284055       3.419021                     10.417507   \n",
       "2041          2.298737       3.405491                     10.118544   \n",
       "\n",
       "      Brent (nom $/b) nom $/b  West Texas Intermediate (nom $/b) nom $/b  \\\n",
       "Year                                                                       \n",
       "2050               214.277344                                 205.581665   \n",
       "2049               206.792648                                 198.653381   \n",
       "2048               198.939514                                 190.964218   \n",
       "2047               191.102951                                 182.914185   \n",
       "2046               183.427155                                 174.213318   \n",
       "2045               176.887756                                 168.907990   \n",
       "2044               170.231277                                 161.561188   \n",
       "2043               163.915482                                 155.669418   \n",
       "2042               158.226028                                 150.320374   \n",
       "2041               151.260971                                 143.188431   \n",
       "\n",
       "      Gas Price at Henry Hub (nom $/MMBtu) nom $/MMBtu  \\\n",
       "Year                                                     \n",
       "2050                                          7.539873   \n",
       "2049                                          7.266372   \n",
       "2048                                          7.051677   \n",
       "2047                                          6.823333   \n",
       "2046                                          6.579929   \n",
       "2045                                          6.364482   \n",
       "2044                                          6.179199   \n",
       "2043                                          6.015227   \n",
       "2042                                          5.851842   \n",
       "2041                                          5.683333   \n",
       "\n",
       "      Coal at Minemouth (nom $/ton) nom $/ton  \\\n",
       "Year                                            \n",
       "2050                                77.163956   \n",
       "2049                                75.155357   \n",
       "2048                                73.135712   \n",
       "2047                                71.197189   \n",
       "2046                                69.313484   \n",
       "2045                                67.846008   \n",
       "2044                                65.694534   \n",
       "2043                                64.050179   \n",
       "2042                                62.385551   \n",
       "2041                                60.710873   \n",
       "\n",
       "      Coal Minemouth (nom $/MMBtu) nom $/MMBtu  \\\n",
       "Year                                             \n",
       "2050                                  3.645000   \n",
       "2049                                  3.549152   \n",
       "2048                                  3.452890   \n",
       "2047                                  3.359361   \n",
       "2046                                  3.268590   \n",
       "2045                                  3.191967   \n",
       "2044                                  3.096194   \n",
       "2043                                  3.017857   \n",
       "2042                                  2.940814   \n",
       "2041                                  2.863649   \n",
       "\n",
       "      Delivered Coal (nom $/MMBtu) nom $/MMBtu  \\\n",
       "Year                                             \n",
       "2050                                  4.360555   \n",
       "2049                                  4.254279   \n",
       "2048                                  4.149487   \n",
       "2047                                  4.045896   \n",
       "2046                                  3.942903   \n",
       "2045                                  3.854206   \n",
       "2044                                  3.755188   \n",
       "2043                                  3.665249   \n",
       "2042                                  3.575610   \n",
       "2041                                  3.486681   \n",
       "\n",
       "      Electricity (nom cents/kWh) nom cents/kWh  \n",
       "Year                                             \n",
       "2050                                  20.212610  \n",
       "2049                                  19.787699  \n",
       "2048                                  19.395720  \n",
       "2047                                  18.978594  \n",
       "2046                                  18.526518  \n",
       "2045                                  18.149460  \n",
       "2044                                  17.768002  \n",
       "2043                                  17.370457  \n",
       "2042                                  17.034168  \n",
       "2041                                  16.694515  "
      ],
      "text/html": "<div>\n<style scoped>\n    .dataframe tbody tr th:only-of-type {\n        vertical-align: middle;\n    }\n\n    .dataframe tbody tr th {\n        vertical-align: top;\n    }\n\n    .dataframe thead th {\n        text-align: right;\n    }\n</style>\n<table border=\"1\" class=\"dataframe\">\n  <thead>\n    <tr style=\"text-align: right;\">\n      <th></th>\n      <th>Hydropower quads</th>\n      <th>Biomass quads</th>\n      <th>Other Renewable Energy quads</th>\n      <th>Brent (nom $/b) nom $/b</th>\n      <th>West Texas Intermediate (nom $/b) nom $/b</th>\n      <th>Gas Price at Henry Hub (nom $/MMBtu) nom $/MMBtu</th>\n      <th>Coal at Minemouth (nom $/ton) nom $/ton</th>\n      <th>Coal Minemouth (nom $/MMBtu) nom $/MMBtu</th>\n      <th>Delivered Coal (nom $/MMBtu) nom $/MMBtu</th>\n      <th>Electricity (nom cents/kWh) nom cents/kWh</th>\n    </tr>\n    <tr>\n      <th>Year</th>\n      <th></th>\n      <th></th>\n      <th></th>\n      <th></th>\n      <th></th>\n      <th></th>\n      <th></th>\n      <th></th>\n      <th></th>\n      <th></th>\n    </tr>\n  </thead>\n  <tbody>\n    <tr>\n      <th>2050</th>\n      <td>2.262525</td>\n      <td>3.593170</td>\n      <td>12.642707</td>\n      <td>214.277344</td>\n      <td>205.581665</td>\n      <td>7.539873</td>\n      <td>77.163956</td>\n      <td>3.645000</td>\n      <td>4.360555</td>\n      <td>20.212610</td>\n    </tr>\n    <tr>\n      <th>2049</th>\n      <td>2.273778</td>\n      <td>3.570926</td>\n      <td>12.415702</td>\n      <td>206.792648</td>\n      <td>198.653381</td>\n      <td>7.266372</td>\n      <td>75.155357</td>\n      <td>3.549152</td>\n      <td>4.254279</td>\n      <td>19.787699</td>\n    </tr>\n    <tr>\n      <th>2048</th>\n      <td>2.279950</td>\n      <td>3.546339</td>\n      <td>12.214866</td>\n      <td>198.939514</td>\n      <td>190.964218</td>\n      <td>7.051677</td>\n      <td>73.135712</td>\n      <td>3.452890</td>\n      <td>4.149487</td>\n      <td>19.395720</td>\n    </tr>\n    <tr>\n      <th>2047</th>\n      <td>2.281751</td>\n      <td>3.524088</td>\n      <td>12.039868</td>\n      <td>191.102951</td>\n      <td>182.914185</td>\n      <td>6.823333</td>\n      <td>71.197189</td>\n      <td>3.359361</td>\n      <td>4.045896</td>\n      <td>18.978594</td>\n    </tr>\n    <tr>\n      <th>2046</th>\n      <td>2.273704</td>\n      <td>3.496759</td>\n      <td>11.799397</td>\n      <td>183.427155</td>\n      <td>174.213318</td>\n      <td>6.579929</td>\n      <td>69.313484</td>\n      <td>3.268590</td>\n      <td>3.942903</td>\n      <td>18.526518</td>\n    </tr>\n    <tr>\n      <th>2045</th>\n      <td>2.272747</td>\n      <td>3.476807</td>\n      <td>11.526014</td>\n      <td>176.887756</td>\n      <td>168.907990</td>\n      <td>6.364482</td>\n      <td>67.846008</td>\n      <td>3.191967</td>\n      <td>3.854206</td>\n      <td>18.149460</td>\n    </tr>\n    <tr>\n      <th>2044</th>\n      <td>2.281344</td>\n      <td>3.456382</td>\n      <td>11.121703</td>\n      <td>170.231277</td>\n      <td>161.561188</td>\n      <td>6.179199</td>\n      <td>65.694534</td>\n      <td>3.096194</td>\n      <td>3.755188</td>\n      <td>17.768002</td>\n    </tr>\n    <tr>\n      <th>2043</th>\n      <td>2.284775</td>\n      <td>3.438693</td>\n      <td>10.760035</td>\n      <td>163.915482</td>\n      <td>155.669418</td>\n      <td>6.015227</td>\n      <td>64.050179</td>\n      <td>3.017857</td>\n      <td>3.665249</td>\n      <td>17.370457</td>\n    </tr>\n    <tr>\n      <th>2042</th>\n      <td>2.284055</td>\n      <td>3.419021</td>\n      <td>10.417507</td>\n      <td>158.226028</td>\n      <td>150.320374</td>\n      <td>5.851842</td>\n      <td>62.385551</td>\n      <td>2.940814</td>\n      <td>3.575610</td>\n      <td>17.034168</td>\n    </tr>\n    <tr>\n      <th>2041</th>\n      <td>2.298737</td>\n      <td>3.405491</td>\n      <td>10.118544</td>\n      <td>151.260971</td>\n      <td>143.188431</td>\n      <td>5.683333</td>\n      <td>60.710873</td>\n      <td>2.863649</td>\n      <td>3.486681</td>\n      <td>16.694515</td>\n    </tr>\n  </tbody>\n</table>\n</div>"
     },
     "metadata": {},
     "execution_count": 49
    }
   ],
   "source": [
    "# Combine Total Energy Consumption and Nominal price data\n",
    "renewable_consumption_price_df = pd.concat([renewable_consumption, energy_price], axis=\"columns\", join=\"inner\")\n",
    "renewable_consumption_price_df.head(10)"
   ]
  },
  {
   "cell_type": "code",
   "execution_count": 50,
   "metadata": {},
   "outputs": [
    {
     "output_type": "execute_result",
     "data": {
      "text/plain": [
       "      Hydropower quads  Biomass quads  Other Renewable Energy quads  \\\n",
       "Year                                                                  \n",
       "2050          2.262525       3.593170                     12.642707   \n",
       "2049          2.273778       3.570926                     12.415702   \n",
       "2048          2.279950       3.546339                     12.214866   \n",
       "2047          2.281751       3.524088                     12.039868   \n",
       "2046          2.273704       3.496759                     11.799397   \n",
       "2045          2.272747       3.476807                     11.526014   \n",
       "2044          2.281344       3.456382                     11.121703   \n",
       "2043          2.284775       3.438693                     10.760035   \n",
       "2042          2.284055       3.419021                     10.417507   \n",
       "2041          2.298737       3.405491                     10.118544   \n",
       "\n",
       "      Hydropower quads  Biomass quads  Other Renewable Energy quads  \n",
       "Year                                                                 \n",
       "2050          2.262525       5.535339                     12.642707  \n",
       "2049          2.273778       5.506855                     12.415702  \n",
       "2048          2.279950       5.475977                     12.214866  \n",
       "2047          2.281751       5.447560                     12.039868  \n",
       "2046          2.273704       5.414016                     11.799397  \n",
       "2045          2.272747       5.388065                     11.526014  \n",
       "2044          2.281344       5.360538                     11.121703  \n",
       "2043          2.284775       5.335333                     10.760035  \n",
       "2042          2.284055       5.310064                     10.417507  \n",
       "2041          2.298737       5.290954                     10.118544  "
      ],
      "text/html": "<div>\n<style scoped>\n    .dataframe tbody tr th:only-of-type {\n        vertical-align: middle;\n    }\n\n    .dataframe tbody tr th {\n        vertical-align: top;\n    }\n\n    .dataframe thead th {\n        text-align: right;\n    }\n</style>\n<table border=\"1\" class=\"dataframe\">\n  <thead>\n    <tr style=\"text-align: right;\">\n      <th></th>\n      <th>Hydropower quads</th>\n      <th>Biomass quads</th>\n      <th>Other Renewable Energy quads</th>\n      <th>Hydropower quads</th>\n      <th>Biomass quads</th>\n      <th>Other Renewable Energy quads</th>\n    </tr>\n    <tr>\n      <th>Year</th>\n      <th></th>\n      <th></th>\n      <th></th>\n      <th></th>\n      <th></th>\n      <th></th>\n    </tr>\n  </thead>\n  <tbody>\n    <tr>\n      <th>2050</th>\n      <td>2.262525</td>\n      <td>3.593170</td>\n      <td>12.642707</td>\n      <td>2.262525</td>\n      <td>5.535339</td>\n      <td>12.642707</td>\n    </tr>\n    <tr>\n      <th>2049</th>\n      <td>2.273778</td>\n      <td>3.570926</td>\n      <td>12.415702</td>\n      <td>2.273778</td>\n      <td>5.506855</td>\n      <td>12.415702</td>\n    </tr>\n    <tr>\n      <th>2048</th>\n      <td>2.279950</td>\n      <td>3.546339</td>\n      <td>12.214866</td>\n      <td>2.279950</td>\n      <td>5.475977</td>\n      <td>12.214866</td>\n    </tr>\n    <tr>\n      <th>2047</th>\n      <td>2.281751</td>\n      <td>3.524088</td>\n      <td>12.039868</td>\n      <td>2.281751</td>\n      <td>5.447560</td>\n      <td>12.039868</td>\n    </tr>\n    <tr>\n      <th>2046</th>\n      <td>2.273704</td>\n      <td>3.496759</td>\n      <td>11.799397</td>\n      <td>2.273704</td>\n      <td>5.414016</td>\n      <td>11.799397</td>\n    </tr>\n    <tr>\n      <th>2045</th>\n      <td>2.272747</td>\n      <td>3.476807</td>\n      <td>11.526014</td>\n      <td>2.272747</td>\n      <td>5.388065</td>\n      <td>11.526014</td>\n    </tr>\n    <tr>\n      <th>2044</th>\n      <td>2.281344</td>\n      <td>3.456382</td>\n      <td>11.121703</td>\n      <td>2.281344</td>\n      <td>5.360538</td>\n      <td>11.121703</td>\n    </tr>\n    <tr>\n      <th>2043</th>\n      <td>2.284775</td>\n      <td>3.438693</td>\n      <td>10.760035</td>\n      <td>2.284775</td>\n      <td>5.335333</td>\n      <td>10.760035</td>\n    </tr>\n    <tr>\n      <th>2042</th>\n      <td>2.284055</td>\n      <td>3.419021</td>\n      <td>10.417507</td>\n      <td>2.284055</td>\n      <td>5.310064</td>\n      <td>10.417507</td>\n    </tr>\n    <tr>\n      <th>2041</th>\n      <td>2.298737</td>\n      <td>3.405491</td>\n      <td>10.118544</td>\n      <td>2.298737</td>\n      <td>5.290954</td>\n      <td>10.118544</td>\n    </tr>\n  </tbody>\n</table>\n</div>"
     },
     "metadata": {},
     "execution_count": 50
    }
   ],
   "source": [
    "# combine the Renewable Energy Consumption and Production data\n",
    "renewable_consumption_production_df = pd.concat([renewable_consumption, renewable_production], axis=\"columns\", join=\"inner\")\n",
    "renewable_consumption_production_df.head(10)"
   ]
  },
  {
   "cell_type": "code",
   "execution_count": 52,
   "metadata": {},
   "outputs": [
    {
     "output_type": "execute_result",
     "data": {
      "text/plain": [
       "Hydropower quads                0.006296\n",
       "Biomass quads                   0.007919\n",
       "Other Renewable Energy quads    0.033460\n",
       "dtype: float64"
      ]
     },
     "metadata": {},
     "execution_count": 52
    }
   ],
   "source": [
    "# Calculate the Standard Deviation for Renewable Consumption \n",
    "renewable_consumption_returns = renewable_consumption.pct_change().dropna()\n",
    "\n",
    "renewable_consumption_std = renewable_consumption_returns.std()\n",
    "renewable_consumption_std.head()"
   ]
  },
  {
   "cell_type": "code",
   "execution_count": 56,
   "metadata": {},
   "outputs": [
    {
     "output_type": "execute_result",
     "data": {
      "text/plain": [
       "Crude Oil and Lease Condensate quads    0.019737\n",
       "Natural Gas Plant Liquids quads         0.024175\n",
       "Dry Natural Gas quads                   0.007530\n",
       "Coal quads                              0.023176\n",
       "Nuclear quads                           0.020068\n",
       "dtype: float64"
      ]
     },
     "metadata": {},
     "execution_count": 56
    }
   ],
   "source": [
    "# Calculate the Standard Deviation for Non-renewable Consumption \n",
    "nonrenewable_consumption_returns = nonrenewable_consumption.pct_change().dropna()\n",
    "\n",
    "nonrenewable_consumption_std = nonrenewable_consumption_returns.std()\n",
    "nonrenewable_consumption_std.head()"
   ]
  },
  {
   "cell_type": "code",
   "execution_count": 27,
   "metadata": {},
   "outputs": [
    {
     "output_type": "execute_result",
     "data": {
      "text/plain": [
       "Hydropower quads                0.006296\n",
       "Biomass quads                   0.005078\n",
       "Other Renewable Energy quads    0.033460\n",
       "dtype: float64"
      ]
     },
     "metadata": {},
     "execution_count": 27
    }
   ],
   "source": [
    "# Calculate the Standard Deviation for Renewable Production\n",
    "renewable_production_returns = renewable_production.pct_change().dropna()\n",
    "\n",
    "renewable_production_std = renewable_production_returns.std()\n",
    "renewable_production_std.head()"
   ]
  },
  {
   "cell_type": "code",
   "execution_count": 57,
   "metadata": {},
   "outputs": [
    {
     "output_type": "execute_result",
     "data": {
      "text/plain": [
       "Crude Oil and Lease Condensate quads    0.019737\n",
       "Natural Gas Plant Liquids quads         0.024175\n",
       "Dry Natural Gas quads                   0.007530\n",
       "Coal quads                              0.023176\n",
       "Nuclear quads                           0.020068\n",
       "dtype: float64"
      ]
     },
     "metadata": {},
     "execution_count": 57
    }
   ],
   "source": [
    "# Calculate the Standard Deviation for Non-renewable Production\n",
    "nonrenewable_production_returns = nonrenewable_production.pct_change().dropna()\n",
    "\n",
    "nonrenewable_production_std = nonrenewable_production_returns.std()\n",
    "nonrenewable_production_std.head()"
   ]
  },
  {
   "cell_type": "code",
   "execution_count": 29,
   "metadata": {},
   "outputs": [
    {
     "output_type": "execute_result",
     "data": {
      "text/plain": [
       "Hydropower quads                12.231384\n",
       "Biomass quads                   -6.910614\n",
       "Other Renewable Energy quads   -17.059705\n",
       "dtype: float64"
      ]
     },
     "metadata": {},
     "execution_count": 29
    }
   ],
   "source": [
    "# Calculate the Sharpe Ratio for Renewable Consumption\n",
    "renewable_consum_sharpe_ratio = (renewable_consumption_returns.mean()* 252) / (renewable_consumption_std * np.sqrt(252))\n",
    "renewable_consum_sharpe_ratio.head()"
   ]
  },
  {
   "cell_type": "code",
   "execution_count": 31,
   "metadata": {},
   "outputs": [
    {
     "output_type": "execute_result",
     "data": {
      "text/plain": [
       "Hydropower quads                12.231384\n",
       "Biomass quads                  -13.812871\n",
       "Other Renewable Energy quads   -17.059705\n",
       "dtype: float64"
      ]
     },
     "metadata": {},
     "execution_count": 31
    }
   ],
   "source": [
    "# Calculate the Sharpe Ratio for Renewable Production\n",
    "renewable_prod_sharpe_ratio = (renewable_production_returns.mean()* 252) / (renewable_production_std * np.sqrt(252))\n",
    "renewable_prod_sharpe_ratio.head()"
   ]
  },
  {
   "cell_type": "code",
   "execution_count": 32,
   "metadata": {},
   "outputs": [
    {
     "output_type": "stream",
     "name": "stdout",
     "text": [
      "Renewable Energy's consumption sharpe ratio average is: -3.912978279429131\nRenewable Energy's production sharpe ratio average is: -6.213730665608544\n"
     ]
    }
   ],
   "source": [
    "# Average the Sharpe Ratios\n",
    "consumption_sharpe_avg = renewable_consum_sharpe_ratio.mean()\n",
    "production_sharpe_avg = renewable_prod_sharpe_ratio.mean()\n",
    "\n",
    "print(\"Renewable Energy's consumption sharpe ratio average is:\", consumption_sharpe_avg)\n",
    "print(\"Renewable Energy's production sharpe ratio average is:\", production_sharpe_avg)"
   ]
  },
  {
   "cell_type": "code",
   "execution_count": 33,
   "metadata": {},
   "outputs": [],
   "source": [
    "# Rolling Average for Renewable Consumption"
   ]
  },
  {
   "cell_type": "code",
   "execution_count": null,
   "metadata": {},
   "outputs": [],
   "source": [
    "# Rolling Average for Renewable Production"
   ]
  }
 ]
}